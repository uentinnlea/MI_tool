{
 "cells": [
  {
   "cell_type": "code",
   "execution_count": 2,
   "metadata": {},
   "outputs": [],
   "source": [
    "from rdkit import rdBase, Chem, DataStructs\n",
    "from rdkit.Chem import AllChem, Draw, PandasTools\n",
    "from rdkit.Chem.Draw import IPythonConsole\n",
    "import pandas as pd\n",
    "import numpy as np"
   ]
  },
  {
   "cell_type": "code",
   "execution_count": 3,
   "metadata": {},
   "outputs": [
    {
     "data": {
      "text/html": [
       "<div>\n",
       "<style scoped>\n",
       "    .dataframe tbody tr th:only-of-type {\n",
       "        vertical-align: middle;\n",
       "    }\n",
       "\n",
       "    .dataframe tbody tr th {\n",
       "        vertical-align: top;\n",
       "    }\n",
       "\n",
       "    .dataframe thead th {\n",
       "        text-align: right;\n",
       "    }\n",
       "</style>\n",
       "<table border=\"1\" class=\"dataframe\">\n",
       "  <thead>\n",
       "    <tr style=\"text-align: right;\">\n",
       "      <th></th>\n",
       "      <th>SMILES</th>\n",
       "      <th>MW</th>\n",
       "      <th>logP</th>\n",
       "      <th>VDss(L/kg)</th>\n",
       "      <th>logVDss</th>\n",
       "    </tr>\n",
       "  </thead>\n",
       "  <tbody>\n",
       "    <tr>\n",
       "      <th>0</th>\n",
       "      <td>CC(C)N(CCC(c1ccccc1)c1cc(CO)ccc1O)C(C)C</td>\n",
       "      <td>341.495</td>\n",
       "      <td>4.52530</td>\n",
       "      <td>2.41</td>\n",
       "      <td>0.382017</td>\n",
       "    </tr>\n",
       "    <tr>\n",
       "      <th>1</th>\n",
       "      <td>O=C(OC1C[N+]2(CCCOc3ccccc3)CCC1CC2)C(O)(c1cccs...</td>\n",
       "      <td>484.663</td>\n",
       "      <td>4.66680</td>\n",
       "      <td>4.30</td>\n",
       "      <td>0.633468</td>\n",
       "    </tr>\n",
       "    <tr>\n",
       "      <th>2</th>\n",
       "      <td>CC[C@H]1C2C[C@H]3[C@@H]4N(C)c5ccccc5[C@]45C[C@...</td>\n",
       "      <td>326.440</td>\n",
       "      <td>1.55450</td>\n",
       "      <td>4.00</td>\n",
       "      <td>0.602060</td>\n",
       "    </tr>\n",
       "    <tr>\n",
       "      <th>3</th>\n",
       "      <td>C=CC[N+]12CCC34c5ccccc5N5/C=C6/C7CC8C9(CC[N+]8...</td>\n",
       "      <td>666.910</td>\n",
       "      <td>5.47560</td>\n",
       "      <td>0.32</td>\n",
       "      <td>-0.494850</td>\n",
       "    </tr>\n",
       "    <tr>\n",
       "      <th>4</th>\n",
       "      <td>CCCS(=O)CCCN(CC)CC(O)COc1ccc(C#N)cc1</td>\n",
       "      <td>352.500</td>\n",
       "      <td>2.16868</td>\n",
       "      <td>1.80</td>\n",
       "      <td>0.255273</td>\n",
       "    </tr>\n",
       "  </tbody>\n",
       "</table>\n",
       "</div>"
      ],
      "text/plain": [
       "                                              SMILES       MW     logP  \\\n",
       "0            CC(C)N(CCC(c1ccccc1)c1cc(CO)ccc1O)C(C)C  341.495  4.52530   \n",
       "1  O=C(OC1C[N+]2(CCCOc3ccccc3)CCC1CC2)C(O)(c1cccs...  484.663  4.66680   \n",
       "2  CC[C@H]1C2C[C@H]3[C@@H]4N(C)c5ccccc5[C@]45C[C@...  326.440  1.55450   \n",
       "3  C=CC[N+]12CCC34c5ccccc5N5/C=C6/C7CC8C9(CC[N+]8...  666.910  5.47560   \n",
       "4               CCCS(=O)CCCN(CC)CC(O)COc1ccc(C#N)cc1  352.500  2.16868   \n",
       "\n",
       "   VDss(L/kg)   logVDss  \n",
       "0        2.41  0.382017  \n",
       "1        4.30  0.633468  \n",
       "2        4.00  0.602060  \n",
       "3        0.32 -0.494850  \n",
       "4        1.80  0.255273  "
      ]
     },
     "execution_count": 3,
     "metadata": {},
     "output_type": "execute_result"
    }
   ],
   "source": [
    "df = pd.read_csv(\"VDss_dataset_uen.csv\", index_col=False)\n",
    "df.head()"
   ]
  },
  {
   "cell_type": "code",
   "execution_count": 4,
   "metadata": {},
   "outputs": [],
   "source": [
    "PandasTools.AddMoleculeColumnToFrame(frame=df, smilesCol=\"SMILES\")"
   ]
  },
  {
   "cell_type": "code",
   "execution_count": 5,
   "metadata": {},
   "outputs": [],
   "source": [
    "# def cal_fingerprint(df, type):\n",
    "#     if type == \"morgan fingerprint\":"
   ]
  },
  {
   "cell_type": "code",
   "execution_count": 6,
   "metadata": {},
   "outputs": [
    {
     "data": {
      "text/plain": [
       "0.11392405063291139"
      ]
     },
     "execution_count": 6,
     "metadata": {},
     "output_type": "execute_result"
    }
   ],
   "source": [
    "test_mol1 = df.ROMol[0]\n",
    "test_mol2 = df.ROMol[1]\n",
    "fp1 = AllChem.GetMorganFingerprintAsBitVect(test_mol1, 2, 1024)\n",
    "fp2 = AllChem.GetMorganFingerprintAsBitVect(test_mol2, 2, 1024)\n",
    "DataStructs.TanimotoSimilarity(fp1, fp2)"
   ]
  },
  {
   "cell_type": "code",
   "execution_count": 13,
   "metadata": {},
   "outputs": [
    {
     "data": {
      "text/plain": [
       "1    [0, 0, 0, 0, 0, 1, 0, 0, 0, 0, 1, 0, 0, 1, 1, ...\n",
       "2    [0, 0, 0, 0, 0, 0, 0, 0, 0, 0, 0, 0, 0, 0, 0, ...\n",
       "Name: BitVec, dtype: object"
      ]
     },
     "execution_count": 13,
     "metadata": {},
     "output_type": "execute_result"
    }
   ],
   "source": [
    "df.BitVec[[1, 2]]"
   ]
  },
  {
   "cell_type": "code",
   "execution_count": 21,
   "metadata": {},
   "outputs": [
    {
     "data": {
      "text/plain": [
       "0.11392405063291139"
      ]
     },
     "metadata": {},
     "output_type": "display_data"
    },
    {
     "data": {
      "text/plain": [
       "0.20454545454545456"
      ]
     },
     "metadata": {},
     "output_type": "display_data"
    },
    {
     "data": {
      "text/plain": [
       "[0.11392405063291139,\n",
       " 0.10526315789473684,\n",
       " 0.0963855421686747,\n",
       " 0.136986301369863,\n",
       " 0.17857142857142858]"
      ]
     },
     "metadata": {},
     "output_type": "display_data"
    },
    {
     "data": {
      "text/plain": [
       "[0.20454545454545456,\n",
       " 0.19047619047619047,\n",
       " 0.17582417582417584,\n",
       " 0.24096385542168675,\n",
       " 0.30303030303030304]"
      ]
     },
     "metadata": {},
     "output_type": "display_data"
    }
   ],
   "source": [
    "morgan_fps = []\n",
    "df[\"BitVec\"] = df.ROMol.apply(lambda mol: AllChem.GetMorganFingerprintAsBitVect(mol, 2, 1024))\n",
    "\n",
    "display(DataStructs.TanimotoSimilarity(df.BitVec[0], df.BitVec[1]))\n",
    "display(DataStructs.DiceSimilarity(df.BitVec[0], df.BitVec[1]))\n",
    "display(DataStructs.BulkTanimotoSimilarity(df.BitVec[0], list(df.BitVec)[1:6])) # 1st var: the ref molecule, 2nd var: mol list\n",
    "display(DataStructs.BulkDiceSimilarity(df.BitVec[0], list(df.BitVec)[1:6])) # 1st var: the ref molecule, 2nd var: mol list\n"
   ]
  }
 ],
 "metadata": {
  "kernelspec": {
   "display_name": "base",
   "language": "python",
   "name": "python3"
  },
  "language_info": {
   "codemirror_mode": {
    "name": "ipython",
    "version": 3
   },
   "file_extension": ".py",
   "mimetype": "text/x-python",
   "name": "python",
   "nbconvert_exporter": "python",
   "pygments_lexer": "ipython3",
   "version": "3.11.5"
  }
 },
 "nbformat": 4,
 "nbformat_minor": 2
}
