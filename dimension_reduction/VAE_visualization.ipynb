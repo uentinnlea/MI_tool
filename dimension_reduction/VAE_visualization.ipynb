{
 "cells": [
  {
   "cell_type": "markdown",
   "metadata": {},
   "source": [
    "References:\n",
    "- https://qiita.com/gensal/items/613d04b5ff50b6413aa0\n",
    "- https://mbernste.github.io/posts/vae/"
   ]
  },
  {
   "cell_type": "code",
   "execution_count": 1,
   "metadata": {},
   "outputs": [],
   "source": [
    "import torch\n",
    "import torch.nn as nn\n",
    "import torch.nn.functional as F\n",
    "import torchvision\n",
    "import torchvision.transforms as transforms\n",
    "from torch.utils.data import DataLoader\n",
    "from torchvision.datasets import MNIST, FashionMNIST\n",
    "import matplotlib.pyplot as plt\n",
    "import numpy as np\n",
    "import pandas as pd\n",
    "import matplotlib.pyplot as plt\n",
    "import matplotlib.animation as animation\n",
    "from matplotlib import animation, rc"
   ]
  },
  {
   "cell_type": "code",
   "execution_count": 2,
   "metadata": {},
   "outputs": [
    {
     "name": "stdout",
     "output_type": "stream",
     "text": [
      "train data size:  48000\n",
      "train iteration number:  480\n",
      "val data size:  12000\n",
      "val iteration number:  120\n"
     ]
    }
   ],
   "source": [
    "# Create transform to apply to each datapoint\n",
    "transform = transforms.Compose([transforms.ToTensor()])\n",
    "\n",
    "# Download MNIST dataset\n",
    "trainval_data = MNIST(root=\"./data\", train=True, download=True, transform=transform)\n",
    "\n",
    "# Split data to train and val\n",
    "train_size = int(len(trainval_data) * 0.8)\n",
    "val_size = int(len(trainval_data) * 0.2)\n",
    "train_data, val_data = torch.utils.data.random_split(trainval_data, [train_size, val_size])\n",
    "\n",
    "BATCH_SIZE = 100\n",
    "\n",
    "train_loader = DataLoader(dataset=train_data,\n",
    "                          batch_size=BATCH_SIZE,\n",
    "                          shuffle=True,\n",
    "                          num_workers=4)\n",
    "\n",
    "val_loader = DataLoader(dataset=val_data,\n",
    "                        batch_size=BATCH_SIZE,\n",
    "                        shuffle=True,\n",
    "                        num_workers=4)\n",
    "\n",
    "print(\"train data size: \",len(train_data))\n",
    "print(\"train iteration number: \",len(train_data)//BATCH_SIZE)\n",
    "print(\"val data size: \",len(val_data))\n",
    "print(\"val iteration number: \",len(val_data)//BATCH_SIZE)"
   ]
  },
  {
   "cell_type": "code",
   "execution_count": 3,
   "metadata": {},
   "outputs": [
    {
     "name": "stdout",
     "output_type": "stream",
     "text": [
      "images_size: torch.Size([100, 1, 28, 28])\n",
      "label: tensor([1, 7, 0, 6, 7, 4, 6, 0, 7, 3, 6, 1, 0, 8, 8, 1, 4, 4, 1, 5, 7, 5, 7, 3,\n",
      "        1, 9, 8, 3, 2, 7, 3, 1, 9, 5, 4, 0, 2, 5, 8, 6, 0, 5, 6, 1, 6, 7, 5, 5,\n",
      "        3, 0, 9, 3, 1, 6, 8, 8, 4, 1, 4, 0, 0, 5, 6, 3, 2, 4, 6, 9, 4, 1, 1, 1,\n",
      "        1, 0, 2, 4, 9, 1, 2, 3, 4, 6, 9, 7, 5, 4, 6, 0, 0, 0, 9, 3, 4, 0, 0, 3,\n",
      "        7, 5, 3, 7])\n",
      "100\n"
     ]
    },
    {
     "data": {
      "text/plain": [
       "<matplotlib.image.AxesImage at 0x3020cac50>"
      ]
     },
     "execution_count": 3,
     "metadata": {},
     "output_type": "execute_result"
    },
    {
     "data": {
      "image/png": "[encoded data removed]",
      "text/plain": [
       "<Figure size 640x480 with 1 Axes>"
      ]
     },
     "metadata": {},
     "output_type": "display_data"
    }
   ],
   "source": [
    "images, labels = next(iter(train_loader)) #Images, labels in first batch.\n",
    "print(\"images_size:\",images.size()) # [batch_size, channel, height, width]\n",
    "print(\"label:\",labels)\n",
    "print(len(labels))\n",
    "\n",
    "image_numpy = images.detach().numpy().copy()\n",
    "plt.imshow(image_numpy[0,0,:,:], cmap='gray')"
   ]
  },
  {
   "cell_type": "markdown",
   "metadata": {},
   "source": [
    "Fully connected NN-based VAE"
   ]
  },
  {
   "cell_type": "code",
   "execution_count": 9,
   "metadata": {},
   "outputs": [],
   "source": [
    "class Encoder(nn.Module):\n",
    "    def __init__(self, z_dim):\n",
    "        super().__init__()\n",
    "        self.lr = nn.Linear(28*28, 300)\n",
    "        self.lr2 = nn.Linear(300, 100)\n",
    "        self.lr_ave = nn.Linear(100, z_dim)\n",
    "        self.lr_var = nn.Linear(100, z_dim)\n",
    "        self.relu = nn.ReLU()\n",
    "    \n",
    "    def forward(self, x):\n",
    "        x = self.relu(self.lr2(self.relu(self.lr(x))))\n",
    "        ave = self.lr_ave(x)\n",
    "        log_var = self.lr_var(x)\n",
    "\n",
    "        # Reparameterization Trick\n",
    "        epsilon = torch.randn_like(ave)\n",
    "        z = ave + epsilon * torch.exp(log_var / 2)\n",
    "        return z, ave, log_var\n",
    "\n",
    "class Decoder(nn.Module):\n",
    "    def __init__(self, z_dim):\n",
    "        super().__init__()\n",
    "        self.lr = nn.Linear(z_dim, 100)\n",
    "        self.lr2 = nn.Linear(100, 300)\n",
    "        self.lr3 = nn.Linear(300, 28*28)\n",
    "        self.relu = nn.ReLU()\n",
    "\n",
    "    def forward(self, x):\n",
    "        x = self.lr3(self.relu(self.lr2(self.relu(self.lr(x)))))\n",
    "        x = torch.sigmoid(x)\n",
    "        return x\n",
    "\n",
    "class VAE(nn.Module):\n",
    "    def __init__(self, z_dim):\n",
    "        super().__init__()\n",
    "        self.encoder = Encoder(z_dim)\n",
    "        self.decoder = Decoder(z_dim)\n",
    "    \n",
    "    def forward(self, x):\n",
    "        z, ave, log_var = self.encoder(x)\n",
    "        x_hat = self.decoder(z)\n",
    "        return x_hat, z, ave, log_var\n",
    "        "
   ]
  },
  {
   "cell_type": "code",
   "execution_count": 10,
   "metadata": {},
   "outputs": [],
   "source": [
    "def loss_function(output, input, ave, log_var):\n",
    "\treconstruction_loss = F.binary_cross_entropy(output, input, reduction='sum')\n",
    "\tkl_loss = -0.5 * torch.sum(1 + log_var - ave**2 - log_var.exp())\n",
    "\tloss = reconstruction_loss + kl_loss\n",
    "\treturn loss"
   ]
  },
  {
   "cell_type": "code",
   "execution_count": 11,
   "metadata": {},
   "outputs": [
    {
     "name": "stdout",
     "output_type": "stream",
     "text": [
      "Using device: mps\n"
     ]
    }
   ],
   "source": [
    "z_dim = 2\n",
    "num_epochs = 20\n",
    "\n",
    "# Check if MPS (Apple GPU support) is available and use it; otherwise, use CPU\n",
    "device = torch.device(\"mps\" if torch.backends.mps.is_available() else \"cpu\")\n",
    "print(f\"Using device: {device}\")\n",
    "\n",
    "model = VAE(z_dim).to(device)\n",
    "optimizer = torch.optim.Adam(model.parameters(), lr=0.001)"
   ]
  },
  {
   "cell_type": "code",
   "execution_count": 12,
   "metadata": {},
   "outputs": [
    {
     "name": "stdout",
     "output_type": "stream",
     "text": [
      "Epoch: 1, loss: 54449.8477\n",
      "Epoch: 1, loss: 19029.7363\n",
      "Epoch: 1, loss: 18044.4434\n",
      "Epoch: 1, loss: 16669.8496\n",
      "Epoch: 1, loss: 15687.8271\n",
      "Epoch: 1, val_loss: 17863.7559\n",
      "Epoch: 2, loss: 16614.5098\n",
      "Epoch: 2, loss: 16768.6680\n",
      "Epoch: 2, loss: 17066.2344\n",
      "Epoch: 2, loss: 16445.2734\n",
      "Epoch: 2, loss: 15943.1055\n",
      "Epoch: 2, val_loss: 17138.2637\n",
      "Epoch: 3, loss: 16203.9805\n",
      "Epoch: 3, loss: 16239.2100\n",
      "Epoch: 3, loss: 16837.5918\n",
      "Epoch: 3, loss: 16644.0273\n",
      "Epoch: 3, loss: 15356.1035\n",
      "Epoch: 3, val_loss: 15073.7188\n",
      "Epoch: 4, loss: 15605.8037\n",
      "Epoch: 4, loss: 16124.2949\n",
      "Epoch: 4, loss: 15734.6494\n",
      "Epoch: 4, loss: 14617.1904\n",
      "Epoch: 4, loss: 16626.1953\n",
      "Epoch: 4, val_loss: 14318.8516\n",
      "Epoch: 5, loss: 14740.7803\n",
      "Epoch: 5, loss: 15895.0000\n",
      "Epoch: 5, loss: 16054.6367\n",
      "Epoch: 5, loss: 15048.0605\n",
      "Epoch: 5, loss: 14691.3271\n",
      "Epoch: 5, val_loss: 15076.3555\n",
      "Epoch: 6, loss: 15079.6172\n",
      "Epoch: 6, loss: 15815.5059\n",
      "Epoch: 6, loss: 14217.1709\n",
      "Epoch: 6, loss: 14470.1992\n",
      "Epoch: 6, loss: 13879.8291\n",
      "Epoch: 6, val_loss: 14654.3506\n",
      "Epoch: 7, loss: 15043.0938\n",
      "Epoch: 7, loss: 14713.7930\n",
      "Epoch: 7, loss: 15322.8828\n",
      "Epoch: 7, loss: 15273.9580\n",
      "Epoch: 7, loss: 15299.2451\n",
      "Epoch: 7, val_loss: 14516.4473\n",
      "Epoch: 8, loss: 15842.2412\n",
      "Epoch: 8, loss: 15295.2354\n",
      "Epoch: 8, loss: 14639.2725\n",
      "Epoch: 8, loss: 14363.2188\n",
      "Epoch: 8, loss: 15129.6123\n",
      "Epoch: 8, val_loss: 14939.5332\n",
      "Epoch: 9, loss: 14996.2148\n",
      "Epoch: 9, loss: 15214.2754\n",
      "Epoch: 9, loss: 13987.9180\n",
      "Epoch: 9, loss: 14957.1074\n",
      "Epoch: 9, loss: 14400.1611\n",
      "Epoch: 9, val_loss: 14382.7119\n",
      "Epoch: 10, loss: 15148.5010\n",
      "Epoch: 10, loss: 15117.5488\n",
      "Epoch: 10, loss: 14406.9883\n",
      "Epoch: 10, loss: 14723.6680\n",
      "Epoch: 10, loss: 15672.8408\n",
      "Epoch: 10, val_loss: 15175.3145\n",
      "Epoch: 11, loss: 15387.4766\n",
      "Epoch: 11, loss: 14758.2148\n",
      "Epoch: 11, loss: 13980.7090\n",
      "Epoch: 11, loss: 13688.8271\n",
      "Epoch: 11, loss: 14584.2109\n",
      "Epoch: 11, val_loss: 15103.6680\n",
      "Epoch: 12, loss: 14236.0996\n",
      "Epoch: 12, loss: 14348.7881\n",
      "Epoch: 12, loss: 14387.3467\n",
      "Epoch: 12, loss: 14661.4346\n",
      "Epoch: 12, loss: 14168.4893\n",
      "Epoch: 12, val_loss: 13974.9463\n",
      "Epoch: 13, loss: 14950.3271\n",
      "Epoch: 13, loss: 15533.9639\n",
      "Epoch: 13, loss: 14431.7080\n",
      "Epoch: 13, loss: 14615.0850\n",
      "Epoch: 13, loss: 14501.8613\n",
      "Epoch: 13, val_loss: 14347.7061\n",
      "Epoch: 14, loss: 13861.0781\n",
      "Epoch: 14, loss: 14301.3525\n",
      "Epoch: 14, loss: 14190.0908\n",
      "Epoch: 14, loss: 14724.6924\n",
      "Epoch: 14, loss: 14536.8750\n",
      "Epoch: 14, val_loss: 14400.7441\n",
      "Epoch: 15, loss: 14303.8613\n",
      "Epoch: 15, loss: 14129.7363\n",
      "Epoch: 15, loss: 14179.4463\n",
      "Epoch: 15, loss: 14331.4268\n",
      "Epoch: 15, loss: 13195.6465\n",
      "Epoch: 15, val_loss: 14137.0459\n",
      "Epoch: 16, loss: 14482.6943\n",
      "Epoch: 16, loss: 13655.3379\n",
      "Epoch: 16, loss: 14388.1543\n",
      "Epoch: 16, loss: 13863.1592\n",
      "Epoch: 16, loss: 13690.9658\n",
      "Epoch: 16, val_loss: 14003.6455\n",
      "Epoch: 17, loss: 15293.2500\n",
      "Epoch: 17, loss: 14025.9492\n",
      "Epoch: 17, loss: 13709.5312\n",
      "Epoch: 17, loss: 14422.3125\n",
      "Epoch: 17, loss: 13807.2578\n",
      "Epoch: 17, val_loss: 15504.1357\n",
      "Epoch: 18, loss: 14413.0977\n",
      "Epoch: 18, loss: 14349.7891\n",
      "Epoch: 18, loss: 14585.7422\n",
      "Epoch: 18, loss: 14198.1016\n",
      "Epoch: 18, loss: 13655.5322\n",
      "Epoch: 18, val_loss: 14442.3350\n",
      "Epoch: 19, loss: 13659.7549\n",
      "Epoch: 19, loss: 14200.1797\n",
      "Epoch: 19, loss: 13879.8818\n",
      "Epoch: 19, loss: 14241.4629\n",
      "Epoch: 19, loss: 14010.2676\n",
      "Epoch: 19, val_loss: 15133.7803\n",
      "Epoch: 20, loss: 13755.8066\n",
      "Epoch: 20, loss: 13843.3047\n",
      "Epoch: 20, loss: 14882.4941\n",
      "Epoch: 20, loss: 14588.9180\n",
      "Epoch: 20, loss: 13776.3779\n",
      "Epoch: 20, val_loss: 14586.8691\n"
     ]
    }
   ],
   "source": [
    "summary = {\"train_loss\": [], \"val_loss\": [], \"ave\": [], \"log_var\": [], \"z\": [], \"labels\": []}\n",
    "\n",
    "scheduler = torch.optim.lr_scheduler.MultiStepLR(optimizer=optimizer, milestones=[15], gamma=0.1)\n",
    "for epoch in range(num_epochs):\n",
    "    model.train()\n",
    "    for batch_num, (x, labels) in enumerate(train_loader):\n",
    "        input = x.to(device).view(-1, 28*28).to(torch.float32)\n",
    "        output, z, ave, log_var = model(input)\n",
    "\n",
    "        summary[\"ave\"].append(ave)\n",
    "        summary[\"log_var\"].append(log_var)\n",
    "        summary[\"z\"].append(z)\n",
    "        summary[\"labels\"].append(labels)\n",
    "        loss = loss_function(output, input, ave, log_var)\n",
    "        \n",
    "        optimizer.zero_grad()\n",
    "        loss.backward()\n",
    "        optimizer.step()\n",
    "\n",
    "        if batch_num % 100 == 0:\n",
    "            print(f'Epoch: {epoch + 1}, loss: {loss:.4f}')\n",
    "        summary[\"train_loss\"].append(loss)\n",
    "    \n",
    "    model.eval()\n",
    "    with torch.inference_mode():\n",
    "        for x, labels in val_loader:\n",
    "            input = x.to(device).view(-1, 28*28).to(torch.float32)\n",
    "            output, z, ave, log_var = model(input)\n",
    "\n",
    "            loss = loss_function(output, input, ave, log_var)\n",
    "            summary[\"val_loss\"].append(loss)\n",
    "        print(f'Epoch: {epoch + 1}, val_loss: {loss:.4f}')\n",
    "    \n",
    "    scheduler.step()\n"
   ]
  },
  {
   "cell_type": "code",
   "execution_count": 13,
   "metadata": {},
   "outputs": [
    {
     "data": {
      "text/plain": [
       "[<matplotlib.lines.Line2D at 0x17619fc10>]"
      ]
     },
     "execution_count": 13,
     "metadata": {},
     "output_type": "execute_result"
    },
    {
     "data": {
      "image/png": "[encoded data removed]",
      "text/plain": [
       "<Figure size 640x480 with 1 Axes>"
      ]
     },
     "metadata": {},
     "output_type": "display_data"
    }
   ],
   "source": [
    "train_loss_tensor = torch.stack(summary[\"train_loss\"])\n",
    "train_loss_np = train_loss_tensor.to('cpu').detach().numpy().copy()\n",
    "plt.plot(train_loss_np)"
   ]
  },
  {
   "cell_type": "code",
   "execution_count": null,
   "metadata": {},
   "outputs": [],
   "source": []
  },
  {
   "cell_type": "markdown",
   "metadata": {},
   "source": [
    "確立モデルに潜在変数Zを導入したら複雑な分布をより単純な分布を使って表すことが可能になります。潜在変数を導入することは，同時分布\n",
    "を設計することに相当します。ここが全ての始まりです。観測データと潜在変数にどのような依存関係があるのかを同時分布として設定してしまうわけです。\n",
    "\n",
    "変分ベイズを含む従来のベイズ推定の手法では，計算が煩雑になるという欠点があります。一方で，VAEでは近似分布のみならず，真の分布もDNNによって推定しますので，確率的勾配法を用いて一気通貫にパラメータを最適化することができます。\n",
    "\n",
    "EM algorithm:\n",
    " - 潜在変数を含む確率モデルの点推定を行う手法。\n",
    " - Mアルゴリズムでは，潜在変数をとパラメータを区別します。\n",
    " - EMアルゴリズムではを計算できるという立場を取ります。\n",
    "\n",
    "Variational Bayes:\n",
    " - 変分ベイズは潜在変数を含む確率モデルのベイズ推定を行うための手法です。\n",
    " - 潜在変数をとパラメータを区別せずに、両者を一括してZと表します。\n",
    " - 変分ベイズではを計算できないという立場を取ります。\n",
    " - 変分ベイズは，事後分布を別の新しい分布で近似してしまおうという大胆かつ汎用性の高い手法です。\n",
    "\n",
    "*Ref: https://academ-aid.com/ml/vae*"
   ]
  }
 ],
 "metadata": {
  "kernelspec": {
   "display_name": "base",
   "language": "python",
   "name": "python3"
  },
  "language_info": {
   "codemirror_mode": {
    "name": "ipython",
    "version": 3
   },
   "file_extension": ".py",
   "mimetype": "text/x-python",
   "name": "python",
   "nbconvert_exporter": "python",
   "pygments_lexer": "ipython3",
   "version": "3.11.5"
  }
 },
 "nbformat": 4,
 "nbformat_minor": 2
}
