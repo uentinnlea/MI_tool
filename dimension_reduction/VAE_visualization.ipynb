{
 "cells": [
  {
   "cell_type": "markdown",
   "metadata": {},
   "source": [
    "References:\n",
    "- https://qiita.com/gensal/items/613d04b5ff50b6413aa0\n",
    "- https://mbernste.github.io/posts/vae/"
   ]
  },
  {
   "cell_type": "code",
   "execution_count": 1,
   "metadata": {},
   "outputs": [],
   "source": [
    "import torch\n",
    "import torch.nn as nn\n",
    "import torch.nn.functional as F\n",
    "import torchvision\n",
    "import torchvision.transforms as transforms\n",
    "from torch.utils.data import DataLoader\n",
    "from torchvision.datasets import MNIST, FashionMNIST\n",
    "import matplotlib.pyplot as plt\n",
    "import numpy as np\n",
    "import pandas as pd\n",
    "import matplotlib.pyplot as plt\n",
    "import matplotlib.animation as animation\n",
    "from matplotlib import animation, rc"
   ]
  },
  {
   "cell_type": "code",
   "execution_count": 2,
   "metadata": {},
   "outputs": [
    {
     "name": "stdout",
     "output_type": "stream",
     "text": [
      "train data size:  48000\n",
      "train iteration number:  480\n",
      "val data size:  12000\n",
      "val iteration number:  120\n"
     ]
    }
   ],
   "source": [
    "# Create transform to apply to each datapoint\n",
    "transform = transforms.Compose([transforms.ToTensor()])\n",
    "\n",
    "# Download MNIST dataset\n",
    "trainval_data = MNIST(root=\"./data\", train=True, download=True, transform=transform)\n",
    "\n",
    "# Split data to train and val\n",
    "train_size = int(len(trainval_data) * 0.8)\n",
    "val_size = int(len(trainval_data) * 0.2)\n",
    "train_data, val_data = torch.utils.data.random_split(trainval_data, [train_size, val_size])\n",
    "\n",
    "BATCH_SIZE = 100\n",
    "\n",
    "train_loader = DataLoader(dataset=train_data,\n",
    "                          batch_size=BATCH_SIZE,\n",
    "                          shuffle=True,\n",
    "                          num_workers=4)\n",
    "\n",
    "val_loader = DataLoader(dataset=val_data,\n",
    "                        batch_size=BATCH_SIZE,\n",
    "                        shuffle=True,\n",
    "                        num_workers=4)\n",
    "\n",
    "print(\"train data size: \",len(train_data))\n",
    "print(\"train iteration number: \",len(train_data)//BATCH_SIZE)\n",
    "print(\"val data size: \",len(val_data))\n",
    "print(\"val iteration number: \",len(val_data)//BATCH_SIZE)"
   ]
  },
  {
   "cell_type": "code",
   "execution_count": 3,
   "metadata": {},
   "outputs": [
    {
     "name": "stdout",
     "output_type": "stream",
     "text": [
      "images_size: torch.Size([100, 1, 28, 28])\n",
      "label: tensor([8, 0, 0, 2, 1, 1, 8, 1, 9, 9, 9, 9, 7, 4, 2, 6, 1, 1, 9, 5, 9, 9, 9, 1,\n",
      "        9, 2, 2, 9, 6, 4, 3, 1, 1, 5, 3, 4, 6, 9, 8, 3, 1, 5, 0, 6, 1, 1, 4, 8,\n",
      "        2, 2, 9, 5, 1, 9, 7, 0, 9, 9, 6, 1, 5, 7, 7, 4, 6, 1, 0, 0, 2, 7, 1, 1,\n",
      "        1, 0, 2, 5, 2, 6, 2, 0, 8, 2, 0, 4, 4, 4, 9, 0, 3, 8, 4, 5, 8, 6, 7, 7,\n",
      "        6, 4, 5, 3])\n",
      "100\n"
     ]
    },
    {
     "data": {
      "text/plain": [
       "<matplotlib.image.AxesImage at 0x16dde5790>"
      ]
     },
     "execution_count": 3,
     "metadata": {},
     "output_type": "execute_result"
    },
    {
     "data": {
      "image/png": "[encoded data removed]",
      "text/plain": [
       "<Figure size 640x480 with 1 Axes>"
      ]
     },
     "metadata": {},
     "output_type": "display_data"
    }
   ],
   "source": [
    "images, labels = next(iter(train_loader)) #Images, labels in first batch.\n",
    "print(\"images_size:\",images.size()) # [batch_size, channel, height, width]\n",
    "print(\"label:\",labels)\n",
    "print(len(labels))\n",
    "\n",
    "image_numpy = images.detach().numpy().copy()\n",
    "plt.imshow(image_numpy[0,0,:,:], cmap='gray')"
   ]
  },
  {
   "cell_type": "markdown",
   "metadata": {},
   "source": [
    "Fully connected NN-based VAE"
   ]
  },
  {
   "cell_type": "code",
   "execution_count": 9,
   "metadata": {},
   "outputs": [],
   "source": [
    "class Encoder(nn.Module):\n",
    "    def __init__(self, z_dim):\n",
    "        super().__init__()\n",
    "        self.lr = nn.Linear(28*28, 300)\n",
    "        self.lr2 = nn.Linear(300, 100)\n",
    "        self.lr_ave = nn.Linear(100, z_dim)\n",
    "        self.lr_var = nn.Linear(100, z_dim)\n",
    "        self.relu = nn.ReLU()\n",
    "    \n",
    "    def forward(self, x):\n",
    "        x = self.relu(self.lr2(self.relu(self.lr(x))))\n",
    "        ave = self.lr_ave(x)\n",
    "        log_var = self.lr_var(x)\n",
    "\n",
    "        # Reparameterization Trick\n",
    "        epsilon = torch.randn_like(ave)\n",
    "        z = ave + epsilon * torch.exp(log_var / 2)\n",
    "        return z, ave, log_var\n",
    "\n",
    "class Decoder(nn.Module):\n",
    "    def __init__(self, z_dim):\n",
    "        super().__init__()\n",
    "        self.lr = nn.Linear(z_dim, 100)\n",
    "        self.lr2 = nn.Linear(100, 300)\n",
    "        self.lr3 = nn.Linear(300, 28*28)\n",
    "        self.relu = nn.ReLU()\n",
    "\n",
    "    def forward(self, x):\n",
    "        x = self.relu(self.lr3(self.relu(self.lr2(self.relu(self.lr(x))))))\n",
    "        x = torch.sigmoid(x)\n",
    "        return x\n",
    "\n",
    "class VAE(nn.Module):\n",
    "    def __init__(self, z_dim):\n",
    "        super().__init__()\n",
    "        self.encoder = Encoder(z_dim)\n",
    "        self.decoder = Decoder(z_dim)\n",
    "    \n",
    "    def forward(self, x):\n",
    "        z, ave, log_var = self.encoder(x)\n",
    "        x_hat = self.decoder(z)\n",
    "        return x_hat, z, ave, log_var\n",
    "        "
   ]
  },
  {
   "cell_type": "code",
   "execution_count": 10,
   "metadata": {},
   "outputs": [],
   "source": [
    "def loss_function(output, input, ave, log_var):\n",
    "\treconstruction_loss = F.binary_cross_entropy(output, input, reduction='sum')\n",
    "\tkl_loss = -0.5 * torch.sum(1 + log_var - ave**2 - log_var.exp())\n",
    "\tloss = reconstruction_loss + kl_loss\n",
    "\treturn loss"
   ]
  },
  {
   "cell_type": "code",
   "execution_count": 17,
   "metadata": {},
   "outputs": [
    {
     "name": "stdout",
     "output_type": "stream",
     "text": [
      "Using device: mps\n"
     ]
    }
   ],
   "source": [
    "z_dim = 2\n",
    "num_epochs = 20\n",
    "\n",
    "# Check if MPS (Apple GPU support) is available and use it; otherwise, use CPU\n",
    "device = torch.device(\"mps\" if torch.backends.mps.is_available() else \"cpu\")\n",
    "print(f\"Using device: {device}\")\n",
    "\n",
    "model = VAE(z_dim).to(device)\n",
    "optimizer = torch.optim.Adam(model.parameters(), lr=0.001)"
   ]
  },
  {
   "cell_type": "code",
   "execution_count": 18,
   "metadata": {},
   "outputs": [
    {
     "name": "stdout",
     "output_type": "stream",
     "text": [
      "Epoch: 1, loss: 55749.0781\n",
      "Epoch: 1, loss: 54340.7930\n",
      "Epoch: 1, loss: 54338.9922\n",
      "Epoch: 1, loss: 54338.2383\n",
      "Epoch: 1, loss: 54347.4258\n",
      "Epoch: 1, val_loss: 54328.5078\n",
      "Epoch: 2, loss: 54335.4102\n",
      "Epoch: 2, loss: 54336.6797\n",
      "Epoch: 2, loss: 54338.9297\n",
      "Epoch: 2, loss: 54342.3711\n",
      "Epoch: 2, loss: 54336.5703\n",
      "Epoch: 2, val_loss: 54321.4727\n",
      "Epoch: 3, loss: 54322.3359\n",
      "Epoch: 3, loss: 54337.1328\n",
      "Epoch: 3, loss: 54337.9102\n",
      "Epoch: 3, loss: 54350.9258\n",
      "Epoch: 3, loss: 54328.8359\n",
      "Epoch: 3, val_loss: 54332.5859\n",
      "Epoch: 4, loss: 54341.5742\n",
      "Epoch: 4, loss: 54328.1289\n",
      "Epoch: 4, loss: 54341.3164\n",
      "Epoch: 4, loss: 54331.5195\n",
      "Epoch: 4, loss: 54328.5820\n",
      "Epoch: 4, val_loss: 54336.4102\n",
      "Epoch: 5, loss: 54318.9141\n",
      "Epoch: 5, loss: 54341.6445\n",
      "Epoch: 5, loss: 54333.9492\n",
      "Epoch: 5, loss: 54314.1875\n",
      "Epoch: 5, loss: 54320.5625\n",
      "Epoch: 5, val_loss: 54345.8789\n",
      "Epoch: 6, loss: 54331.0938\n",
      "Epoch: 6, loss: 54337.6797\n",
      "Epoch: 6, loss: 54319.5195\n",
      "Epoch: 6, loss: 54342.4414\n",
      "Epoch: 6, loss: 54337.6133\n",
      "Epoch: 6, val_loss: 54330.1758\n",
      "Epoch: 7, loss: 54329.7969\n",
      "Epoch: 7, loss: 54323.5430\n",
      "Epoch: 7, loss: 54329.3594\n",
      "Epoch: 7, loss: 54333.7461\n",
      "Epoch: 7, loss: 54346.8867\n",
      "Epoch: 7, val_loss: 54327.2070\n",
      "Epoch: 8, loss: 54341.0586\n",
      "Epoch: 8, loss: 54336.7695\n",
      "Epoch: 8, loss: 54336.0078\n",
      "Epoch: 8, loss: 54327.6836\n",
      "Epoch: 8, loss: 54321.7305\n",
      "Epoch: 8, val_loss: 54345.5586\n",
      "Epoch: 9, loss: 54332.2539\n",
      "Epoch: 9, loss: 54318.3477\n",
      "Epoch: 9, loss: 54327.9336\n",
      "Epoch: 9, loss: 54336.3164\n",
      "Epoch: 9, loss: 54325.7539\n",
      "Epoch: 9, val_loss: 54342.7266\n",
      "Epoch: 10, loss: 54332.0117\n",
      "Epoch: 10, loss: 54367.1602\n",
      "Epoch: 10, loss: 54323.4258\n",
      "Epoch: 10, loss: 54309.3750\n",
      "Epoch: 10, loss: 54334.4688\n",
      "Epoch: 10, val_loss: 54343.5273\n",
      "Epoch: 11, loss: 54308.3867\n",
      "Epoch: 11, loss: 54346.3594\n",
      "Epoch: 11, loss: 54325.0117\n",
      "Epoch: 11, loss: 54315.6797\n",
      "Epoch: 11, loss: 54342.3320\n",
      "Epoch: 11, val_loss: 54320.9258\n",
      "Epoch: 12, loss: 54345.0742\n",
      "Epoch: 12, loss: 54321.9805\n",
      "Epoch: 12, loss: 54337.1094\n",
      "Epoch: 12, loss: 54316.9258\n",
      "Epoch: 12, loss: 54324.4062\n",
      "Epoch: 12, val_loss: 54347.0859\n",
      "Epoch: 13, loss: 54331.4297\n",
      "Epoch: 13, loss: 54325.8086\n",
      "Epoch: 13, loss: 54334.1562\n",
      "Epoch: 13, loss: 54324.0859\n",
      "Epoch: 13, loss: 54324.1602\n",
      "Epoch: 13, val_loss: 54335.0039\n",
      "Epoch: 14, loss: 54349.6758\n",
      "Epoch: 14, loss: 54323.7656\n",
      "Epoch: 14, loss: 54328.6289\n",
      "Epoch: 14, loss: 54345.8242\n",
      "Epoch: 14, loss: 54345.6562\n",
      "Epoch: 14, val_loss: 54336.8711\n",
      "Epoch: 15, loss: 54351.3359\n",
      "Epoch: 15, loss: 54327.4297\n",
      "Epoch: 15, loss: 54328.4766\n",
      "Epoch: 15, loss: 54336.7695\n",
      "Epoch: 15, loss: 54333.4844\n",
      "Epoch: 15, val_loss: 54331.0117\n",
      "Epoch: 16, loss: 54350.5547\n",
      "Epoch: 16, loss: 54346.0430\n",
      "Epoch: 16, loss: 54322.4062\n",
      "Epoch: 16, loss: 54326.6797\n",
      "Epoch: 16, loss: 54327.6680\n",
      "Epoch: 16, val_loss: 54340.5039\n",
      "Epoch: 17, loss: 54330.2422\n",
      "Epoch: 17, loss: 54327.5664\n",
      "Epoch: 17, loss: 54335.6523\n",
      "Epoch: 17, loss: 54341.1055\n",
      "Epoch: 17, loss: 54322.0039\n",
      "Epoch: 17, val_loss: 54331.2188\n",
      "Epoch: 18, loss: 54336.6562\n",
      "Epoch: 18, loss: 54335.5469\n",
      "Epoch: 18, loss: 54323.5625\n",
      "Epoch: 18, loss: 54326.9609\n",
      "Epoch: 18, loss: 54311.0781\n",
      "Epoch: 18, val_loss: 54330.2305\n",
      "Epoch: 19, loss: 54336.3438\n",
      "Epoch: 19, loss: 54327.8203\n",
      "Epoch: 19, loss: 54329.9961\n",
      "Epoch: 19, loss: 54330.4766\n",
      "Epoch: 19, loss: 54315.6250\n",
      "Epoch: 19, val_loss: 54344.0547\n",
      "Epoch: 20, loss: 54344.1133\n",
      "Epoch: 20, loss: 54328.1719\n",
      "Epoch: 20, loss: 54320.2500\n",
      "Epoch: 20, loss: 54323.5469\n",
      "Epoch: 20, loss: 54334.5625\n",
      "Epoch: 20, val_loss: 54314.9219\n"
     ]
    }
   ],
   "source": [
    "summary = {\"train_loss\": [], \"val_loss\": [], \"ave\": [], \"log_var\": [], \"z\": [], \"labels\": []}\n",
    "\n",
    "scheduler = torch.optim.lr_scheduler.MultiStepLR(optimizer=optimizer, milestones=[15], gamma=0.1)\n",
    "for epoch in range(num_epochs):\n",
    "    model.train()\n",
    "    for batch_num, (x, labels) in enumerate(train_loader):\n",
    "        input = x.to(device).view(-1, 28*28).to(torch.float32)\n",
    "        output, z, ave, log_var = model(input)\n",
    "\n",
    "        summary[\"ave\"].append(ave)\n",
    "        summary[\"log_var\"].append(log_var)\n",
    "        summary[\"z\"].append(z)\n",
    "        summary[\"labels\"].append(labels)\n",
    "        loss = loss_function(output, input, ave, log_var)\n",
    "        \n",
    "        optimizer.zero_grad()\n",
    "        loss.backward()\n",
    "        optimizer.step()\n",
    "\n",
    "        if batch_num % 100 == 0:\n",
    "            print(f'Epoch: {epoch + 1}, loss: {loss:.4f}')\n",
    "        summary[\"train_loss\"].append(loss)\n",
    "    \n",
    "    model.eval()\n",
    "    with torch.inference_mode():\n",
    "        for x, labels in val_loader:\n",
    "            input = x.to(device).view(-1, 28*28).to(torch.float32)\n",
    "            output, z, ave, log_var = model(input)\n",
    "\n",
    "            loss = loss_function(output, input, ave, log_var)\n",
    "            summary[\"val_loss\"].append(loss)\n",
    "        print(f'Epoch: {epoch + 1}, val_loss: {loss:.4f}')\n",
    "    \n",
    "    scheduler.step()\n"
   ]
  },
  {
   "cell_type": "code",
   "execution_count": 16,
   "metadata": {},
   "outputs": [
    {
     "data": {
      "text/plain": [
       "[<matplotlib.lines.Line2D at 0x30cdbd550>]"
      ]
     },
     "execution_count": 16,
     "metadata": {},
     "output_type": "execute_result"
    },
    {
     "data": {
      "image/png": "[encoded data removed]",
      "text/plain": [
       "<Figure size 640x480 with 1 Axes>"
      ]
     },
     "metadata": {},
     "output_type": "display_data"
    }
   ],
   "source": [
    "train_loss_tensor = torch.stack(summary[\"train_loss\"])\n",
    "train_loss_np = train_loss_tensor.to('cpu').detach().numpy().copy()\n",
    "plt.plot(train_loss_np)"
   ]
  },
  {
   "cell_type": "code",
   "execution_count": null,
   "metadata": {},
   "outputs": [],
   "source": []
  },
  {
   "cell_type": "markdown",
   "metadata": {},
   "source": [
    "確立モデルに潜在変数Zを導入したら複雑な分布をより単純な分布を使って表すことが可能になります。潜在変数を導入することは，同時分布\n",
    "を設計することに相当します。ここが全ての始まりです。観測データと潜在変数にどのような依存関係があるのかを同時分布として設定してしまうわけです。\n",
    "\n",
    "変分ベイズを含む従来のベイズ推定の手法では，計算が煩雑になるという欠点があります。一方で，VAEでは近似分布のみならず，真の分布もDNNによって推定しますので，確率的勾配法を用いて一気通貫にパラメータを最適化することができます。\n",
    "\n",
    "EM algorithm:\n",
    " - 潜在変数を含む確率モデルの点推定を行う手法。\n",
    " - Mアルゴリズムでは，潜在変数をとパラメータを区別します。\n",
    " - EMアルゴリズムではを計算できるという立場を取ります。\n",
    "\n",
    "Variational Bayes:\n",
    " - 変分ベイズは潜在変数を含む確率モデルのベイズ推定を行うための手法です。\n",
    " - 潜在変数をとパラメータを区別せずに、両者を一括してZと表します。\n",
    " - 変分ベイズではを計算できないという立場を取ります。\n",
    " - 変分ベイズは，事後分布を別の新しい分布で近似してしまおうという大胆かつ汎用性の高い手法です。\n",
    "\n",
    "*Ref: https://academ-aid.com/ml/vae*"
   ]
  }
 ],
 "metadata": {
  "kernelspec": {
   "display_name": "base",
   "language": "python",
   "name": "python3"
  },
  "language_info": {
   "codemirror_mode": {
    "name": "ipython",
    "version": 3
   },
   "file_extension": ".py",
   "mimetype": "text/x-python",
   "name": "python",
   "nbconvert_exporter": "python",
   "pygments_lexer": "ipython3",
   "version": "3.11.0"
  }
 },
 "nbformat": 4,
 "nbformat_minor": 2
}
