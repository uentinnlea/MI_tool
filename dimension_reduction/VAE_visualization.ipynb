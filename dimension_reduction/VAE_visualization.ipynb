{
 "cells": [
  {
   "cell_type": "code",
   "execution_count": 1,
   "metadata": {},
   "outputs": [],
   "source": [
    "import torch\n",
    "import torch.nn as nn\n",
    "import torch.nn.functional as F\n",
    "import torchvision\n",
    "import torchvision.transforms as transforms\n",
    "from torch.utils.data import DataLoader\n",
    "from torchvision.datasets import MNIST, FashionMNIST\n",
    "import matplotlib.pyplot as plt\n",
    "import numpy as np\n",
    "import pandas as pd\n",
    "import matplotlib.pyplot as plt\n",
    "import matplotlib.animation as animation\n",
    "from matplotlib import animation, rc"
   ]
  },
  {
   "cell_type": "code",
   "execution_count": 2,
   "metadata": {},
   "outputs": [
    {
     "name": "stdout",
     "output_type": "stream",
     "text": [
      "train data size:  48000\n",
      "train iteration number:  480\n",
      "val data size:  12000\n",
      "val iteration number:  120\n"
     ]
    }
   ],
   "source": [
    "# Create transform to apply to each datapoint\n",
    "transform = transforms.Compose([transforms.ToTensor()])\n",
    "\n",
    "# Download MNIST dataset\n",
    "trainval_data = MNIST(root=\"./data\", train=True, download=True, transform=transform)\n",
    "\n",
    "# Split data to train and val\n",
    "train_size = int(len(trainval_data) * 0.8)\n",
    "val_size = int(len(trainval_data) * 0.2)\n",
    "train_data, val_data = torch.utils.data.random_split(trainval_data, [train_size, val_size])\n",
    "\n",
    "BATCH_SIZE = 100\n",
    "\n",
    "train_loader = DataLoader(dataset=train_data,\n",
    "                          batch_size=BATCH_SIZE,\n",
    "                          shuffle=True,\n",
    "                          num_workers=0)\n",
    "\n",
    "val_loader = DataLoader(dataset=val_data,\n",
    "                        batch_size=BATCH_SIZE,\n",
    "                        shuffle=True,\n",
    "                        num_workers=0)\n",
    "\n",
    "print(\"train data size: \",len(train_data))\n",
    "print(\"train iteration number: \",len(train_data)//BATCH_SIZE)\n",
    "print(\"val data size: \",len(val_data))\n",
    "print(\"val iteration number: \",len(val_data)//BATCH_SIZE)"
   ]
  },
  {
   "cell_type": "code",
   "execution_count": 6,
   "metadata": {},
   "outputs": [
    {
     "name": "stdout",
     "output_type": "stream",
     "text": [
      "images_size: torch.Size([100, 1, 28, 28])\n",
      "label: tensor([6, 8, 0, 4, 5, 4, 0, 4, 3, 4, 7, 4, 6, 1, 4, 9, 0, 5, 9, 9, 6, 5, 9, 6,\n",
      "        8, 9, 6, 3, 3, 9, 9, 6, 6, 1, 2, 6, 4, 0, 1, 5, 3, 4, 0, 0, 9, 5, 8, 9,\n",
      "        4, 3, 0, 0, 9, 5, 1, 7, 2, 2, 2, 9, 1, 9, 1, 0, 9, 1, 5, 0, 5, 8, 9, 7,\n",
      "        8, 3, 2, 7, 8, 8, 1, 5, 0, 1, 6, 9, 6, 3, 7, 0, 4, 1, 3, 3, 4, 3, 0, 8,\n",
      "        8, 3, 0, 8])\n",
      "100\n"
     ]
    },
    {
     "data": {
      "text/plain": [
       "<matplotlib.image.AxesImage at 0x17cd35090>"
      ]
     },
     "execution_count": 6,
     "metadata": {},
     "output_type": "execute_result"
    },
    {
     "data": {
      "image/png": "[encoded data removed]",
      "text/plain": [
       "<Figure size 640x480 with 1 Axes>"
      ]
     },
     "metadata": {},
     "output_type": "display_data"
    }
   ],
   "source": [
    "images, labels = next(iter(train_loader))\n",
    "print(\"images_size:\",images.size()) # [batch, channel, height, width]\n",
    "print(\"label:\",labels)\n",
    "print(len(labels))\n",
    "\n",
    "image_numpy = images.detach().numpy().copy()\n",
    "plt.imshow(image_numpy[0,0,:,:], cmap='gray')"
   ]
  },
  {
   "cell_type": "markdown",
   "metadata": {},
   "source": [
    "Fully connected NN-based VAE"
   ]
  },
  {
   "cell_type": "code",
   "execution_count": null,
   "metadata": {},
   "outputs": [],
   "source": [
    "class Encoder(nn.Module):\n",
    "    def __init__(self, z_dim):\n",
    "        super().__init__()\n",
    "        self.lr = nn.Linear(28*28, 300)\n",
    "        self.lr2 = nn.Linear(300, 100)\n",
    "        self.lr_ave = nn.Linear(100, z_dim)\n",
    "        self.lr_var = nn.Linear(100, z_dim)\n",
    "        self.relu = nn.ReLU()\n",
    "    \n",
    "    def forward(self, x):\n",
    "        x = self.relu(self.lr2(self.relu(self.lr(x))))\n",
    "        ave = self.lr_ave(x)\n",
    "        log_var = self.lr_var(x)\n",
    "\n",
    "        # Reparameterization Trick\n",
    "        epsilon = torch.randn_like(ave)\n",
    "        z = ave + epsilon * torch.exp(log_var / 2)\n",
    "        return z, ave, log_var\n",
    "\n",
    "class Decoder(nn.Module):\n",
    "    def __init__(self, z_dim):\n",
    "        super().__init__()\n",
    "        self.lr = nn.Linear(z_dim, 100)\n",
    "        self.lr2 = nn.Linear(100, 300)\n",
    "        self.lr3 = nn.Linear(300, 28*28)\n",
    "        self.relu = nn.ReLU()\n",
    "\n",
    "    def forward(self, x):\n",
    "        x = self.relu(self.lr3(self.relu(self.lr2(self.relu(self.lr(x))))))\n",
    "        x = torch.sigmoid(x)\n",
    "        return x\n",
    "\n",
    "class VAE(nn.Module):\n",
    "    def __init__(self, z_dim):\n",
    "        super().__init__()\n",
    "        self.encoder = Encoder(z_dim)\n",
    "        self.decoder = Decoder(z_dim)\n",
    "    \n",
    "    def forward(self, x):\n",
    "        z, ave, log_var = self.encoder(x)\n",
    "        x_hat = self.decoder(z)\n",
    "        return x_hat, z, ave, log_var\n",
    "        "
   ]
  },
  {
   "cell_type": "code",
   "execution_count": null,
   "metadata": {},
   "outputs": [],
   "source": []
  },
  {
   "cell_type": "markdown",
   "metadata": {},
   "source": [
    "確立モデルに潜在変数Zを導入したら複雑な分布をより単純な分布を使って表すことが可能になります。潜在変数を導入することは，同時分布\n",
    "を設計することに相当します。ここが全ての始まりです。観測データと潜在変数にどのような依存関係があるのかを同時分布として設定してしまうわけです。\n",
    "\n",
    "変分ベイズを含む従来のベイズ推定の手法では，計算が煩雑になるという欠点があります。一方で，VAEでは近似分布のみならず，真の分布もDNNによって推定しますので，確率的勾配法を用いて一気通貫にパラメータを最適化することができます。\n",
    "\n",
    "EM algorithm:\n",
    " - 潜在変数を含む確率モデルの点推定を行う手法。\n",
    " - Mアルゴリズムでは，潜在変数をとパラメータを区別します。\n",
    " - EMアルゴリズムではを計算できるという立場を取ります。\n",
    "\n",
    "Variational Bayes:\n",
    " - 変分ベイズは潜在変数を含む確率モデルのベイズ推定を行うための手法です。\n",
    " - 潜在変数をとパラメータを区別せずに、両者を一括してZと表します。\n",
    " - 変分ベイズではを計算できないという立場を取ります。\n",
    " - 変分ベイズは，事後分布を別の新しい分布で近似してしまおうという大胆かつ汎用性の高い手法です。\n",
    "\n",
    "*Ref: https://academ-aid.com/ml/vae*"
   ]
  }
 ],
 "metadata": {
  "kernelspec": {
   "display_name": "base",
   "language": "python",
   "name": "python3"
  },
  "language_info": {
   "codemirror_mode": {
    "name": "ipython",
    "version": 3
   },
   "file_extension": ".py",
   "mimetype": "text/x-python",
   "name": "python",
   "nbconvert_exporter": "python",
   "pygments_lexer": "ipython3",
   "version": "3.11.0"
  }
 },
 "nbformat": 4,
 "nbformat_minor": 2
}
