{
 "cells": [
  {
   "cell_type": "code",
   "execution_count": 1,
   "metadata": {},
   "outputs": [],
   "source": [
    "import numpy as np\n",
    "import matplotlib.pyplot as plt\n",
    "from scipy.interpolate import BSpline\n",
    "from ipywidgets import interact, FloatSlider"
   ]
  },
  {
   "cell_type": "code",
   "execution_count": 2,
   "metadata": {},
   "outputs": [
    {
     "data": {
      "application/vnd.jupyter.widget-view+json": {
       "model_id": "55705cf808224445b6a8291d506e8f34",
       "version_major": 2,
       "version_minor": 0
      },
      "text/plain": [
       "interactive(children=(FloatSlider(value=0.2, description='CP0', max=1.0, step=0.01), FloatSlider(value=0.6, de…"
      ]
     },
     "metadata": {},
     "output_type": "display_data"
    }
   ],
   "source": [
    "\n",
    "# B-spline degree\n",
    "k = 3\n",
    "\n",
    "# Initial control points\n",
    "control_points = np.array([[0.1, 0.2], [0.3, 0.6], [0.5, 0.3], [0.7, 0.8], [0.9, 0.5]])\n",
    "\n",
    "# Knot vector (uniform)\n",
    "n_control_points = len(control_points)\n",
    "t = np.linspace(0, 1, n_control_points - k + 1)\n",
    "t = np.concatenate(([0] * k, t, [1] * k))\n",
    "\n",
    "def bspline_curve(cp0, cp1, cp2, cp3, cp4):\n",
    "    # Update control points with UI input\n",
    "    control_points[0] = [0.1, cp0]\n",
    "    control_points[1] = [0.3, cp1]\n",
    "    control_points[2] = [0.5, cp2]\n",
    "    control_points[3] = [0.7, cp3]\n",
    "    control_points[4] = [0.9, cp4]\n",
    "\n",
    "    # B-spline coefficients\n",
    "    cx = control_points[:, 0]\n",
    "    cy = control_points[:, 1]\n",
    "\n",
    "    # Create the B-spline object for x and y\n",
    "    spline_x = BSpline(t, cx, k)\n",
    "    spline_y = BSpline(t, cy, k)\n",
    "\n",
    "    # Create fine points for plotting\n",
    "    t_fine = np.linspace(0, 1, 100)\n",
    "    x_fine = spline_x(t_fine)\n",
    "    y_fine = spline_y(t_fine)\n",
    "\n",
    "    # Plot\n",
    "    plt.figure(figsize=(6, 6))\n",
    "    plt.plot(control_points[:, 0], control_points[:, 1], 'o--', label=\"Control Points\")\n",
    "    plt.plot(x_fine, y_fine, label=\"B-Spline Curve\")\n",
    "    plt.legend()\n",
    "    plt.grid(True)\n",
    "    plt.xlim(0, 1)\n",
    "    plt.ylim(0, 1)\n",
    "    plt.title('Interactive B-spline Curve')\n",
    "    plt.show()\n",
    "\n",
    "# Create sliders for adjusting control points\n",
    "interact(bspline_curve,\n",
    "         cp0=FloatSlider(value=0.2, min=0, max=1, step=0.01, description='CP0'),\n",
    "         cp1=FloatSlider(value=0.6, min=0, max=1, step=0.01, description='CP1'),\n",
    "         cp2=FloatSlider(value=0.3, min=0, max=1, step=0.01, description='CP2'),\n",
    "         cp3=FloatSlider(value=0.8, min=0, max=1, step=0.01, description='CP3'),\n",
    "         cp4=FloatSlider(value=0.5, min=0, max=1, step=0.01, description='CP4'));\n"
   ]
  }
 ],
 "metadata": {
  "kernelspec": {
   "display_name": "base",
   "language": "python",
   "name": "python3"
  },
  "language_info": {
   "codemirror_mode": {
    "name": "ipython",
    "version": 3
   },
   "file_extension": ".py",
   "mimetype": "text/x-python",
   "name": "python",
   "nbconvert_exporter": "python",
   "pygments_lexer": "ipython3",
   "version": "3.12.0"
  }
 },
 "nbformat": 4,
 "nbformat_minor": 2
}
