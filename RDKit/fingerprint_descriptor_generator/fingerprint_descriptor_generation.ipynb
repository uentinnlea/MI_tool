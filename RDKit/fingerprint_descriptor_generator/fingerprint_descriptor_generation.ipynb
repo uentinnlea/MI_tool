{
 "cells": [
  {
   "cell_type": "code",
   "execution_count": 9,
   "metadata": {},
   "outputs": [],
   "source": [
    "from fingerprint_descriptor_gen import FingerprintDescriptorGenerator"
   ]
  },
  {
   "cell_type": "code",
   "execution_count": 10,
   "metadata": {},
   "outputs": [],
   "source": [
    "smiles = [\"CCCOO\", \"c1ccccc1O\"]\n",
    "mols = [Chem.MolFromSmiles(smi) for smi in smiles]\n",
    "\n",
    "generator = FingerprintDescriptorGenerator(mols)"
   ]
  },
  {
   "cell_type": "code",
   "execution_count": 11,
   "metadata": {},
   "outputs": [
    {
     "name": "stderr",
     "output_type": "stream",
     "text": [
      "  0%|          | 0/2 [00:00<?, ?it/s][15:52:56] DEPRECATION WARNING: please use MorganGenerator\n",
      "[15:52:56] DEPRECATION WARNING: please use MorganGenerator\n",
      "100%|██████████| 2/2 [00:00<00:00, 6132.02it/s]\n"
     ]
    },
    {
     "data": {
      "text/html": [
       "<div>\n",
       "<style scoped>\n",
       "    .dataframe tbody tr th:only-of-type {\n",
       "        vertical-align: middle;\n",
       "    }\n",
       "\n",
       "    .dataframe tbody tr th {\n",
       "        vertical-align: top;\n",
       "    }\n",
       "\n",
       "    .dataframe thead th {\n",
       "        text-align: right;\n",
       "    }\n",
       "</style>\n",
       "<table border=\"1\" class=\"dataframe\">\n",
       "  <thead>\n",
       "    <tr style=\"text-align: right;\">\n",
       "      <th></th>\n",
       "      <th>0</th>\n",
       "      <th>1</th>\n",
       "      <th>2</th>\n",
       "      <th>3</th>\n",
       "      <th>4</th>\n",
       "      <th>5</th>\n",
       "      <th>6</th>\n",
       "      <th>7</th>\n",
       "      <th>8</th>\n",
       "      <th>9</th>\n",
       "      <th>...</th>\n",
       "      <th>290</th>\n",
       "      <th>291</th>\n",
       "      <th>292</th>\n",
       "      <th>293</th>\n",
       "      <th>294</th>\n",
       "      <th>295</th>\n",
       "      <th>296</th>\n",
       "      <th>297</th>\n",
       "      <th>298</th>\n",
       "      <th>299</th>\n",
       "    </tr>\n",
       "  </thead>\n",
       "  <tbody>\n",
       "    <tr>\n",
       "      <th>0</th>\n",
       "      <td>-0.024889</td>\n",
       "      <td>-0.020835</td>\n",
       "      <td>-0.077513</td>\n",
       "      <td>0.071014</td>\n",
       "      <td>0.085509</td>\n",
       "      <td>0.038145</td>\n",
       "      <td>-0.292367</td>\n",
       "      <td>0.046169</td>\n",
       "      <td>0.104634</td>\n",
       "      <td>-0.043774</td>\n",
       "      <td>...</td>\n",
       "      <td>-0.046398</td>\n",
       "      <td>0.089518</td>\n",
       "      <td>0.098699</td>\n",
       "      <td>0.023394</td>\n",
       "      <td>-0.087543</td>\n",
       "      <td>-0.081763</td>\n",
       "      <td>-0.077889</td>\n",
       "      <td>-0.171118</td>\n",
       "      <td>-0.221771</td>\n",
       "      <td>-0.081824</td>\n",
       "    </tr>\n",
       "    <tr>\n",
       "      <th>1</th>\n",
       "      <td>0.040646</td>\n",
       "      <td>0.072300</td>\n",
       "      <td>-0.064734</td>\n",
       "      <td>0.252497</td>\n",
       "      <td>-0.077114</td>\n",
       "      <td>-0.017886</td>\n",
       "      <td>-0.296125</td>\n",
       "      <td>0.107831</td>\n",
       "      <td>0.157646</td>\n",
       "      <td>0.127130</td>\n",
       "      <td>...</td>\n",
       "      <td>-0.073764</td>\n",
       "      <td>0.189968</td>\n",
       "      <td>0.156483</td>\n",
       "      <td>0.048192</td>\n",
       "      <td>-0.085893</td>\n",
       "      <td>0.047696</td>\n",
       "      <td>-0.127457</td>\n",
       "      <td>-0.119157</td>\n",
       "      <td>-0.166489</td>\n",
       "      <td>0.052532</td>\n",
       "    </tr>\n",
       "  </tbody>\n",
       "</table>\n",
       "<p>2 rows × 300 columns</p>\n",
       "</div>"
      ],
      "text/plain": [
       "        0         1         2         3         4         5         6    \\\n",
       "0 -0.024889 -0.020835 -0.077513  0.071014  0.085509  0.038145 -0.292367   \n",
       "1  0.040646  0.072300 -0.064734  0.252497 -0.077114 -0.017886 -0.296125   \n",
       "\n",
       "        7         8         9    ...       290       291       292       293  \\\n",
       "0  0.046169  0.104634 -0.043774  ... -0.046398  0.089518  0.098699  0.023394   \n",
       "1  0.107831  0.157646  0.127130  ... -0.073764  0.189968  0.156483  0.048192   \n",
       "\n",
       "        294       295       296       297       298       299  \n",
       "0 -0.087543 -0.081763 -0.077889 -0.171118 -0.221771 -0.081824  \n",
       "1 -0.085893  0.047696 -0.127457 -0.119157 -0.166489  0.052532  \n",
       "\n",
       "[2 rows x 300 columns]"
      ]
     },
     "execution_count": 11,
     "metadata": {},
     "output_type": "execute_result"
    }
   ],
   "source": [
    "generator.mol2vec()"
   ]
  },
  {
   "cell_type": "code",
   "execution_count": null,
   "metadata": {},
   "outputs": [],
   "source": []
  }
 ],
 "metadata": {
  "kernelspec": {
   "display_name": "fingerprint",
   "language": "python",
   "name": "python3"
  },
  "language_info": {
   "codemirror_mode": {
    "name": "ipython",
    "version": 3
   },
   "file_extension": ".py",
   "mimetype": "text/x-python",
   "name": "python",
   "nbconvert_exporter": "python",
   "pygments_lexer": "ipython3",
   "version": "3.12.0"
  }
 },
 "nbformat": 4,
 "nbformat_minor": 2
}
