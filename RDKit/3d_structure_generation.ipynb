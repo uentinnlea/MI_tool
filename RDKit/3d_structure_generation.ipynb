{
 "cells": [
  {
   "cell_type": "code",
   "execution_count": 1,
   "metadata": {},
   "outputs": [
    {
     "name": "stdout",
     "output_type": "stream",
     "text": [
      "3.11.5 (main, Sep 11 2023, 08:31:25) [Clang 14.0.6 ]\n",
      "2023.09.5\n"
     ]
    }
   ],
   "source": [
    "from rdkit import rdBase, Chem\n",
    "from rdkit.Chem import AllChem, Draw, PandasTools\n",
    "from rdkit.Chem.Draw import IPythonConsole\n",
    "import sys, py3Dmol\n",
    "import pandas as pd\n",
    "print(sys.version)\n",
    "\n",
    "print(rdBase.rdkitVersion)"
   ]
  },
  {
   "cell_type": "code",
   "execution_count": 2,
   "metadata": {},
   "outputs": [],
   "source": [
    "df = pd.read_csv(\"/Users/lpc_0066/Desktop/Dataset/その他/Volume of Distribution/VDss_dataset_uen.csv\")"
   ]
  },
  {
   "cell_type": "markdown",
   "metadata": {},
   "source": [
    "Generate mol column by PandasTools"
   ]
  },
  {
   "cell_type": "code",
   "execution_count": 3,
   "metadata": {},
   "outputs": [
    {
     "data": {
      "text/html": [
       "<div>\n",
       "<style scoped>\n",
       "    .dataframe tbody tr th:only-of-type {\n",
       "        vertical-align: middle;\n",
       "    }\n",
       "\n",
       "    .dataframe tbody tr th {\n",
       "        vertical-align: top;\n",
       "    }\n",
       "\n",
       "    .dataframe thead th {\n",
       "        text-align: right;\n",
       "    }\n",
       "</style>\n",
       "<table border=\"1\" class=\"dataframe\">\n",
       "  <thead>\n",
       "    <tr style=\"text-align: right;\">\n",
       "      <th></th>\n",
       "      <th>SMILES</th>\n",
       "      <th>MW</th>\n",
       "      <th>logP</th>\n",
       "      <th>VDss(L/kg)</th>\n",
       "      <th>logVDss</th>\n",
       "      <th>mols</th>\n",
       "    </tr>\n",
       "  </thead>\n",
       "  <tbody>\n",
       "    <tr>\n",
       "      <th>0</th>\n",
       "      <td>CC(C)N(CCC(c1ccccc1)c1cc(CO)ccc1O)C(C)C</td>\n",
       "      <td>341.495</td>\n",
       "      <td>4.52530</td>\n",
       "      <td>2.41</td>\n",
       "      <td>0.382017</td>\n",
       "      <td>&lt;rdkit.Chem.rdchem.Mol object at 0x173505cb0&gt;</td>\n",
       "    </tr>\n",
       "    <tr>\n",
       "      <th>1</th>\n",
       "      <td>O=C(OC1C[N+]2(CCCOc3ccccc3)CCC1CC2)C(O)(c1cccs...</td>\n",
       "      <td>484.663</td>\n",
       "      <td>4.66680</td>\n",
       "      <td>4.30</td>\n",
       "      <td>0.633468</td>\n",
       "      <td>&lt;rdkit.Chem.rdchem.Mol object at 0x173505b60&gt;</td>\n",
       "    </tr>\n",
       "    <tr>\n",
       "      <th>2</th>\n",
       "      <td>CC[C@H]1C2C[C@H]3[C@@H]4N(C)c5ccccc5[C@]45C[C@...</td>\n",
       "      <td>326.440</td>\n",
       "      <td>1.55450</td>\n",
       "      <td>4.00</td>\n",
       "      <td>0.602060</td>\n",
       "      <td>&lt;rdkit.Chem.rdchem.Mol object at 0x173505d20&gt;</td>\n",
       "    </tr>\n",
       "    <tr>\n",
       "      <th>3</th>\n",
       "      <td>C=CC[N+]12CCC34c5ccccc5N5/C=C6/C7CC8C9(CC[N+]8...</td>\n",
       "      <td>666.910</td>\n",
       "      <td>5.47560</td>\n",
       "      <td>0.32</td>\n",
       "      <td>-0.494850</td>\n",
       "      <td>&lt;rdkit.Chem.rdchem.Mol object at 0x173505d90&gt;</td>\n",
       "    </tr>\n",
       "    <tr>\n",
       "      <th>4</th>\n",
       "      <td>CCCS(=O)CCCN(CC)CC(O)COc1ccc(C#N)cc1</td>\n",
       "      <td>352.500</td>\n",
       "      <td>2.16868</td>\n",
       "      <td>1.80</td>\n",
       "      <td>0.255273</td>\n",
       "      <td>&lt;rdkit.Chem.rdchem.Mol object at 0x173505e00&gt;</td>\n",
       "    </tr>\n",
       "    <tr>\n",
       "      <th>5</th>\n",
       "      <td>CNC(=O)C(c1ccccc1)N1CCc2cc(OC)c(OC)cc2C1CCc1cc...</td>\n",
       "      <td>512.572</td>\n",
       "      <td>5.74190</td>\n",
       "      <td>9.75</td>\n",
       "      <td>0.989005</td>\n",
       "      <td>&lt;rdkit.Chem.rdchem.Mol object at 0x173505e70&gt;</td>\n",
       "    </tr>\n",
       "    <tr>\n",
       "      <th>6</th>\n",
       "      <td>C=CCN1CCCC1CNC(=O)c1cc(S(=O)(=O)NC)c(N)cc1OC</td>\n",
       "      <td>382.486</td>\n",
       "      <td>0.56570</td>\n",
       "      <td>2.30</td>\n",
       "      <td>0.361728</td>\n",
       "      <td>&lt;rdkit.Chem.rdchem.Mol object at 0x173505ee0&gt;</td>\n",
       "    </tr>\n",
       "    <tr>\n",
       "      <th>7</th>\n",
       "      <td>CCCCCC(O)/C=C/C1C(O)CC(=O)C1CCCCCCC(=O)O</td>\n",
       "      <td>354.487</td>\n",
       "      <td>3.47510</td>\n",
       "      <td>2.40</td>\n",
       "      <td>0.380211</td>\n",
       "      <td>&lt;rdkit.Chem.rdchem.Mol object at 0x173505f50&gt;</td>\n",
       "    </tr>\n",
       "    <tr>\n",
       "      <th>8</th>\n",
       "      <td>CCNC(=O)C1CC(n2ccc3c(NC(CC)Cc4sccc4Cl)ncnc32)C...</td>\n",
       "      <td>478.018</td>\n",
       "      <td>2.99830</td>\n",
       "      <td>0.84</td>\n",
       "      <td>-0.075721</td>\n",
       "      <td>&lt;rdkit.Chem.rdchem.Mol object at 0x173505fc0&gt;</td>\n",
       "    </tr>\n",
       "    <tr>\n",
       "      <th>9</th>\n",
       "      <td>N#CC(OC1OC(COC2OC(CO)C(O)C(O)C2O)C(O)C(O)C1O)c...</td>\n",
       "      <td>457.432</td>\n",
       "      <td>-3.10802</td>\n",
       "      <td>0.21</td>\n",
       "      <td>-0.677781</td>\n",
       "      <td>&lt;rdkit.Chem.rdchem.Mol object at 0x173506030&gt;</td>\n",
       "    </tr>\n",
       "  </tbody>\n",
       "</table>\n",
       "</div>"
      ],
      "text/plain": [
       "                                              SMILES       MW     logP  \\\n",
       "0            CC(C)N(CCC(c1ccccc1)c1cc(CO)ccc1O)C(C)C  341.495  4.52530   \n",
       "1  O=C(OC1C[N+]2(CCCOc3ccccc3)CCC1CC2)C(O)(c1cccs...  484.663  4.66680   \n",
       "2  CC[C@H]1C2C[C@H]3[C@@H]4N(C)c5ccccc5[C@]45C[C@...  326.440  1.55450   \n",
       "3  C=CC[N+]12CCC34c5ccccc5N5/C=C6/C7CC8C9(CC[N+]8...  666.910  5.47560   \n",
       "4               CCCS(=O)CCCN(CC)CC(O)COc1ccc(C#N)cc1  352.500  2.16868   \n",
       "5  CNC(=O)C(c1ccccc1)N1CCc2cc(OC)c(OC)cc2C1CCc1cc...  512.572  5.74190   \n",
       "6       C=CCN1CCCC1CNC(=O)c1cc(S(=O)(=O)NC)c(N)cc1OC  382.486  0.56570   \n",
       "7           CCCCCC(O)/C=C/C1C(O)CC(=O)C1CCCCCCC(=O)O  354.487  3.47510   \n",
       "8  CCNC(=O)C1CC(n2ccc3c(NC(CC)Cc4sccc4Cl)ncnc32)C...  478.018  2.99830   \n",
       "9  N#CC(OC1OC(COC2OC(CO)C(O)C(O)C2O)C(O)C(O)C1O)c...  457.432 -3.10802   \n",
       "\n",
       "   VDss(L/kg)   logVDss                                           mols  \n",
       "0        2.41  0.382017  <rdkit.Chem.rdchem.Mol object at 0x173505cb0>  \n",
       "1        4.30  0.633468  <rdkit.Chem.rdchem.Mol object at 0x173505b60>  \n",
       "2        4.00  0.602060  <rdkit.Chem.rdchem.Mol object at 0x173505d20>  \n",
       "3        0.32 -0.494850  <rdkit.Chem.rdchem.Mol object at 0x173505d90>  \n",
       "4        1.80  0.255273  <rdkit.Chem.rdchem.Mol object at 0x173505e00>  \n",
       "5        9.75  0.989005  <rdkit.Chem.rdchem.Mol object at 0x173505e70>  \n",
       "6        2.30  0.361728  <rdkit.Chem.rdchem.Mol object at 0x173505ee0>  \n",
       "7        2.40  0.380211  <rdkit.Chem.rdchem.Mol object at 0x173505f50>  \n",
       "8        0.84 -0.075721  <rdkit.Chem.rdchem.Mol object at 0x173505fc0>  \n",
       "9        0.21 -0.677781  <rdkit.Chem.rdchem.Mol object at 0x173506030>  "
      ]
     },
     "execution_count": 3,
     "metadata": {},
     "output_type": "execute_result"
    }
   ],
   "source": [
    "PandasTools.AddMoleculeColumnToFrame(df, molCol='mols', smilesCol='SMILES')\n",
    "df.head(10)"
   ]
  },
  {
   "cell_type": "markdown",
   "metadata": {},
   "source": [
    "Add hydrogen for generating 3D structure (important!)"
   ]
  },
  {
   "cell_type": "code",
   "execution_count": 4,
   "metadata": {},
   "outputs": [],
   "source": [
    "m = df.mols[0]\n",
    "m_h = Chem.AddHs(m)\n",
    "# df.mols = df.mols.apply(lambda x: Chem.AddHs(x))"
   ]
  },
  {
   "cell_type": "code",
   "execution_count": 5,
   "metadata": {},
   "outputs": [
    {
     "data": {
      "application/3dmoljs_load.v0": "<div id=\"3dmolviewer_1724246537433488\"  style=\"position: relative; width: 400px; height: 400px;\">\n        <p id=\"3dmolwarning_1724246537433488\" style=\"background-color:#ffcccc;color:black\">3Dmol.js failed to load for some reason.  Please check your browser console for error messages.<br></p>\n        </div>\n<script>\n\nvar loadScriptAsync = function(uri){\n  return new Promise((resolve, reject) => {\n    //this is to ignore the existence of requirejs amd\n    var savedexports, savedmodule;\n    if (typeof exports !== 'undefined') savedexports = exports;\n    else exports = {}\n    if (typeof module !== 'undefined') savedmodule = module;\n    else module = {}\n\n    var tag = document.createElement('script');\n    tag.src = uri;\n    tag.async = true;\n    tag.onload = () => {\n        exports = savedexports;\n        module = savedmodule;\n        resolve();\n    };\n  var firstScriptTag = document.getElementsByTagName('script')[0];\n  firstScriptTag.parentNode.insertBefore(tag, firstScriptTag);\n});\n};\n\nif(typeof $3Dmolpromise === 'undefined') {\n$3Dmolpromise = null;\n  $3Dmolpromise = loadScriptAsync('https://cdnjs.cloudflare.com/ajax/libs/3Dmol/2.3.0/3Dmol-min.js');\n}\n\nvar viewer_1724246537433488 = null;\nvar warn = document.getElementById(\"3dmolwarning_1724246537433488\");\nif(warn) {\n    warn.parentNode.removeChild(warn);\n}\n$3Dmolpromise.then(function() {\nviewer_1724246537433488 = $3Dmol.createViewer(document.getElementById(\"3dmolviewer_1724246537433488\"),{backgroundColor:\"white\"});\nviewer_1724246537433488.zoomTo();\n\tviewer_1724246537433488.removeAllModels();\n\tviewer_1724246537433488.addModel(\"\\n     RDKit          2D\\n\\n 25 26  0  0  0  0  0  0  0  0999 V2000\\n    0.7500   -9.0933    0.0000 C   0  0  0  0  0  0  0  0  0  0  0  0\\n    1.5000   -7.7942    0.0000 C   0  0  0  0  0  0  0  0  0  0  0  0\\n    3.0000   -7.7942    0.0000 C   0  0  0  0  0  0  0  0  0  0  0  0\\n    0.7500   -6.4952    0.0000 N   0  0  0  0  0  0  0  0  0  0  0  0\\n    1.5000   -5.1962    0.0000 C   0  0  0  0  0  0  0  0  0  0  0  0\\n    0.7500   -3.8971    0.0000 C   0  0  0  0  0  0  0  0  0  0  0  0\\n    1.5000   -2.5981    0.0000 C   0  0  0  0  0  0  0  0  0  0  0  0\\n    0.7500   -1.2990    0.0000 C   0  0  0  0  0  0  0  0  0  0  0  0\\n    1.5000    0.0000    0.0000 C   0  0  0  0  0  0  0  0  0  0  0  0\\n    0.7500    1.2990    0.0000 C   0  0  0  0  0  0  0  0  0  0  0  0\\n   -0.7500    1.2990    0.0000 C   0  0  0  0  0  0  0  0  0  0  0  0\\n   -1.5000    0.0000    0.0000 C   0  0  0  0  0  0  0  0  0  0  0  0\\n   -0.7500   -1.2990    0.0000 C   0  0  0  0  0  0  0  0  0  0  0  0\\n    3.0000   -2.5981    0.0000 C   0  0  0  0  0  0  0  0  0  0  0  0\\n    3.7500   -3.8971    0.0000 C   0  0  0  0  0  0  0  0  0  0  0  0\\n    5.2500   -3.8971    0.0000 C   0  0  0  0  0  0  0  0  0  0  0  0\\n    6.0000   -5.1962    0.0000 C   0  0  0  0  0  0  0  0  0  0  0  0\\n    5.2500   -6.4952    0.0000 O   0  0  0  0  0  0  0  0  0  0  0  0\\n    6.0000   -2.5981    0.0000 C   0  0  0  0  0  0  0  0  0  0  0  0\\n    5.2500   -1.2990    0.0000 C   0  0  0  0  0  0  0  0  0  0  0  0\\n    3.7500   -1.2990    0.0000 C   0  0  0  0  0  0  0  0  0  0  0  0\\n    3.0000   -0.0000    0.0000 O   0  0  0  0  0  0  0  0  0  0  0  0\\n   -0.7500   -6.4952    0.0000 C   0  0  0  0  0  0  0  0  0  0  0  0\\n   -1.5000   -7.7942    0.0000 C   0  0  0  0  0  0  0  0  0  0  0  0\\n   -1.5000   -5.1962    0.0000 C   0  0  0  0  0  0  0  0  0  0  0  0\\n  1  2  1  0\\n  2  3  1  0\\n  2  4  1  0\\n  4  5  1  0\\n  5  6  1  0\\n  6  7  1  0\\n  7  8  1  0\\n  8  9  2  0\\n  9 10  1  0\\n 10 11  2  0\\n 11 12  1  0\\n 12 13  2  0\\n  7 14  1  0\\n 14 15  2  0\\n 15 16  1  0\\n 16 17  1  0\\n 17 18  1  0\\n 16 19  2  0\\n 19 20  1  0\\n 20 21  2  0\\n 21 22  1  0\\n  4 23  1  0\\n 23 24  1  0\\n 23 25  1  0\\n 13  8  1  0\\n 21 14  1  0\\nM  END\\n\",\"sdf\");\n\tviewer_1724246537433488.setStyle({\"stick\": {}});\n\tviewer_1724246537433488.setBackgroundColor(\"0xeeeeee\");\n\tviewer_1724246537433488.zoomTo();\nviewer_1724246537433488.render();\n});\n</script>",
      "text/html": [
       "<div id=\"3dmolviewer_1724246537433488\"  style=\"position: relative; width: 400px; height: 400px;\">\n",
       "        <p id=\"3dmolwarning_1724246537433488\" style=\"background-color:#ffcccc;color:black\">3Dmol.js failed to load for some reason.  Please check your browser console for error messages.<br></p>\n",
       "        </div>\n",
       "<script>\n",
       "\n",
       "var loadScriptAsync = function(uri){\n",
       "  return new Promise((resolve, reject) => {\n",
       "    //this is to ignore the existence of requirejs amd\n",
       "    var savedexports, savedmodule;\n",
       "    if (typeof exports !== 'undefined') savedexports = exports;\n",
       "    else exports = {}\n",
       "    if (typeof module !== 'undefined') savedmodule = module;\n",
       "    else module = {}\n",
       "\n",
       "    var tag = document.createElement('script');\n",
       "    tag.src = uri;\n",
       "    tag.async = true;\n",
       "    tag.onload = () => {\n",
       "        exports = savedexports;\n",
       "        module = savedmodule;\n",
       "        resolve();\n",
       "    };\n",
       "  var firstScriptTag = document.getElementsByTagName('script')[0];\n",
       "  firstScriptTag.parentNode.insertBefore(tag, firstScriptTag);\n",
       "});\n",
       "};\n",
       "\n",
       "if(typeof $3Dmolpromise === 'undefined') {\n",
       "$3Dmolpromise = null;\n",
       "  $3Dmolpromise = loadScriptAsync('https://cdnjs.cloudflare.com/ajax/libs/3Dmol/2.3.0/3Dmol-min.js');\n",
       "}\n",
       "\n",
       "var viewer_1724246537433488 = null;\n",
       "var warn = document.getElementById(\"3dmolwarning_1724246537433488\");\n",
       "if(warn) {\n",
       "    warn.parentNode.removeChild(warn);\n",
       "}\n",
       "$3Dmolpromise.then(function() {\n",
       "viewer_1724246537433488 = $3Dmol.createViewer(document.getElementById(\"3dmolviewer_1724246537433488\"),{backgroundColor:\"white\"});\n",
       "viewer_1724246537433488.zoomTo();\n",
       "\tviewer_1724246537433488.removeAllModels();\n",
       "\tviewer_1724246537433488.addModel(\"\\n     RDKit          2D\\n\\n 25 26  0  0  0  0  0  0  0  0999 V2000\\n    0.7500   -9.0933    0.0000 C   0  0  0  0  0  0  0  0  0  0  0  0\\n    1.5000   -7.7942    0.0000 C   0  0  0  0  0  0  0  0  0  0  0  0\\n    3.0000   -7.7942    0.0000 C   0  0  0  0  0  0  0  0  0  0  0  0\\n    0.7500   -6.4952    0.0000 N   0  0  0  0  0  0  0  0  0  0  0  0\\n    1.5000   -5.1962    0.0000 C   0  0  0  0  0  0  0  0  0  0  0  0\\n    0.7500   -3.8971    0.0000 C   0  0  0  0  0  0  0  0  0  0  0  0\\n    1.5000   -2.5981    0.0000 C   0  0  0  0  0  0  0  0  0  0  0  0\\n    0.7500   -1.2990    0.0000 C   0  0  0  0  0  0  0  0  0  0  0  0\\n    1.5000    0.0000    0.0000 C   0  0  0  0  0  0  0  0  0  0  0  0\\n    0.7500    1.2990    0.0000 C   0  0  0  0  0  0  0  0  0  0  0  0\\n   -0.7500    1.2990    0.0000 C   0  0  0  0  0  0  0  0  0  0  0  0\\n   -1.5000    0.0000    0.0000 C   0  0  0  0  0  0  0  0  0  0  0  0\\n   -0.7500   -1.2990    0.0000 C   0  0  0  0  0  0  0  0  0  0  0  0\\n    3.0000   -2.5981    0.0000 C   0  0  0  0  0  0  0  0  0  0  0  0\\n    3.7500   -3.8971    0.0000 C   0  0  0  0  0  0  0  0  0  0  0  0\\n    5.2500   -3.8971    0.0000 C   0  0  0  0  0  0  0  0  0  0  0  0\\n    6.0000   -5.1962    0.0000 C   0  0  0  0  0  0  0  0  0  0  0  0\\n    5.2500   -6.4952    0.0000 O   0  0  0  0  0  0  0  0  0  0  0  0\\n    6.0000   -2.5981    0.0000 C   0  0  0  0  0  0  0  0  0  0  0  0\\n    5.2500   -1.2990    0.0000 C   0  0  0  0  0  0  0  0  0  0  0  0\\n    3.7500   -1.2990    0.0000 C   0  0  0  0  0  0  0  0  0  0  0  0\\n    3.0000   -0.0000    0.0000 O   0  0  0  0  0  0  0  0  0  0  0  0\\n   -0.7500   -6.4952    0.0000 C   0  0  0  0  0  0  0  0  0  0  0  0\\n   -1.5000   -7.7942    0.0000 C   0  0  0  0  0  0  0  0  0  0  0  0\\n   -1.5000   -5.1962    0.0000 C   0  0  0  0  0  0  0  0  0  0  0  0\\n  1  2  1  0\\n  2  3  1  0\\n  2  4  1  0\\n  4  5  1  0\\n  5  6  1  0\\n  6  7  1  0\\n  7  8  1  0\\n  8  9  2  0\\n  9 10  1  0\\n 10 11  2  0\\n 11 12  1  0\\n 12 13  2  0\\n  7 14  1  0\\n 14 15  2  0\\n 15 16  1  0\\n 16 17  1  0\\n 17 18  1  0\\n 16 19  2  0\\n 19 20  1  0\\n 20 21  2  0\\n 21 22  1  0\\n  4 23  1  0\\n 23 24  1  0\\n 23 25  1  0\\n 13  8  1  0\\n 21 14  1  0\\nM  END\\n\",\"sdf\");\n",
       "\tviewer_1724246537433488.setStyle({\"stick\": {}});\n",
       "\tviewer_1724246537433488.setBackgroundColor(\"0xeeeeee\");\n",
       "\tviewer_1724246537433488.zoomTo();\n",
       "viewer_1724246537433488.render();\n",
       "});\n",
       "</script>"
      ]
     },
     "metadata": {},
     "output_type": "display_data"
    }
   ],
   "source": [
    "IPythonConsole.drawMol3D(m)\n",
    "# The 3D structure is not generated yet, so the structure looks flat"
   ]
  },
  {
   "cell_type": "code",
   "execution_count": 6,
   "metadata": {},
   "outputs": [
    {
     "data": {
      "application/3dmoljs_load.v0": "<div id=\"3dmolviewer_17242465374554749\"  style=\"position: relative; width: 400px; height: 400px;\">\n        <p id=\"3dmolwarning_17242465374554749\" style=\"background-color:#ffcccc;color:black\">3Dmol.js failed to load for some reason.  Please check your browser console for error messages.<br></p>\n        </div>\n<script>\n\nvar loadScriptAsync = function(uri){\n  return new Promise((resolve, reject) => {\n    //this is to ignore the existence of requirejs amd\n    var savedexports, savedmodule;\n    if (typeof exports !== 'undefined') savedexports = exports;\n    else exports = {}\n    if (typeof module !== 'undefined') savedmodule = module;\n    else module = {}\n\n    var tag = document.createElement('script');\n    tag.src = uri;\n    tag.async = true;\n    tag.onload = () => {\n        exports = savedexports;\n        module = savedmodule;\n        resolve();\n    };\n  var firstScriptTag = document.getElementsByTagName('script')[0];\n  firstScriptTag.parentNode.insertBefore(tag, firstScriptTag);\n});\n};\n\nif(typeof $3Dmolpromise === 'undefined') {\n$3Dmolpromise = null;\n  $3Dmolpromise = loadScriptAsync('https://cdnjs.cloudflare.com/ajax/libs/3Dmol/2.3.0/3Dmol-min.js');\n}\n\nvar viewer_17242465374554749 = null;\nvar warn = document.getElementById(\"3dmolwarning_17242465374554749\");\nif(warn) {\n    warn.parentNode.removeChild(warn);\n}\n$3Dmolpromise.then(function() {\nviewer_17242465374554749 = $3Dmol.createViewer(document.getElementById(\"3dmolviewer_17242465374554749\"),{backgroundColor:\"white\"});\nviewer_17242465374554749.zoomTo();\n\tviewer_17242465374554749.removeAllModels();\n\tviewer_17242465374554749.addModel(\"\\n     RDKit          2D\\n\\n 56 57  0  0  0  0  0  0  0  0999 V2000\\n   -3.8971   -6.3481    0.0000 C   0  0  0  0  0  0  0  0  0  0  0  0\\n   -2.3971   -6.3481    0.0000 C   0  0  0  0  0  0  0  0  0  0  0  0\\n   -0.8971   -6.3481    0.0000 C   0  0  0  0  0  0  0  0  0  0  0  0\\n   -2.3971   -4.8481    0.0000 N   0  0  0  0  0  0  0  0  0  0  0  0\\n   -1.0981   -4.0981    0.0000 C   0  0  0  0  0  0  0  0  0  0  0  0\\n    0.2010   -3.3481    0.0000 C   0  0  0  0  0  0  0  0  0  0  0  0\\n    1.5000   -2.5981    0.0000 C   0  0  0  0  0  0  0  0  0  0  0  0\\n    0.7500   -1.2990    0.0000 C   0  0  0  0  0  0  0  0  0  0  0  0\\n    1.5000    0.0000    0.0000 C   0  0  0  0  0  0  0  0  0  0  0  0\\n    0.7500    1.2990    0.0000 C   0  0  0  0  0  0  0  0  0  0  0  0\\n   -0.7500    1.2990    0.0000 C   0  0  0  0  0  0  0  0  0  0  0  0\\n   -1.5000    0.0000    0.0000 C   0  0  0  0  0  0  0  0  0  0  0  0\\n   -0.7500   -1.2990    0.0000 C   0  0  0  0  0  0  0  0  0  0  0  0\\n    2.2500   -3.8971    0.0000 C   0  0  0  0  0  0  0  0  0  0  0  0\\n    1.5000   -5.1962    0.0000 C   0  0  0  0  0  0  0  0  0  0  0  0\\n    2.2500   -6.4952    0.0000 C   0  0  0  0  0  0  0  0  0  0  0  0\\n    1.5000   -7.7942    0.0000 C   0  0  0  0  0  0  0  0  0  0  0  0\\n    0.7500   -9.0933    0.0000 O   0  0  0  0  0  0  0  0  0  0  0  0\\n    3.7500   -6.4952    0.0000 C   0  0  0  0  0  0  0  0  0  0  0  0\\n    4.5000   -5.1962    0.0000 C   0  0  0  0  0  0  0  0  0  0  0  0\\n    3.7500   -3.8971    0.0000 C   0  0  0  0  0  0  0  0  0  0  0  0\\n    4.5000   -2.5981    0.0000 O   0  0  0  0  0  0  0  0  0  0  0  0\\n   -3.6962   -4.0981    0.0000 C   0  0  0  0  0  0  0  0  0  0  0  0\\n   -2.9462   -2.7990    0.0000 C   0  0  0  0  0  0  0  0  0  0  0  0\\n   -4.4462   -5.3971    0.0000 C   0  0  0  0  0  0  0  0  0  0  0  0\\n   -5.3859   -6.5309    0.0000 H   0  0  0  0  0  0  0  0  0  0  0  0\\n   -3.8971   -7.8481    0.0000 H   0  0  0  0  0  0  0  0  0  0  0  0\\n   -4.2714   -5.6443    0.0000 H   0  0  0  0  0  0  0  0  0  0  0  0\\n   -2.3971   -7.8481    0.0000 H   0  0  0  0  0  0  0  0  0  0  0  0\\n    0.5917   -6.5309    0.0000 H   0  0  0  0  0  0  0  0  0  0  0  0\\n   -0.8971   -7.8481    0.0000 H   0  0  0  0  0  0  0  0  0  0  0  0\\n   -0.3594   -4.9477    0.0000 H   0  0  0  0  0  0  0  0  0  0  0  0\\n   -1.8481   -2.7990    0.0000 H   0  0  0  0  0  0  0  0  0  0  0  0\\n   -0.3481   -5.3971    0.0000 H   0  0  0  0  0  0  0  0  0  0  0  0\\n   -0.8411   -2.2691    0.0000 H   0  0  0  0  0  0  0  0  0  0  0  0\\n    0.6143   -4.7900    0.0000 H   0  0  0  0  0  0  0  0  0  0  0  0\\n    2.7990   -1.8481    0.0000 H   0  0  0  0  0  0  0  0  0  0  0  0\\n    3.0000    0.0000    0.0000 H   0  0  0  0  0  0  0  0  0  0  0  0\\n    1.5000    2.5981    0.0000 H   0  0  0  0  0  0  0  0  0  0  0  0\\n   -1.5000    2.5981    0.0000 H   0  0  0  0  0  0  0  0  0  0  0  0\\n   -3.0000    0.0000    0.0000 H   0  0  0  0  0  0  0  0  0  0  0  0\\n   -1.6528   -2.4970    0.0000 H   0  0  0  0  0  0  0  0  0  0  0  0\\n    0.0112   -5.3790    0.0000 H   0  0  0  0  0  0  0  0  0  0  0  0\\n    2.7990   -8.5442    0.0000 H   0  0  0  0  0  0  0  0  0  0  0  0\\n    0.1192   -7.2082    0.0000 H   0  0  0  0  0  0  0  0  0  0  0  0\\n   -0.7500   -9.0933    0.0000 H   0  0  0  0  0  0  0  0  0  0  0  0\\n    4.5000   -7.7942    0.0000 H   0  0  0  0  0  0  0  0  0  0  0  0\\n    6.0000   -5.1962    0.0000 H   0  0  0  0  0  0  0  0  0  0  0  0\\n    6.0000   -2.5981    0.0000 H   0  0  0  0  0  0  0  0  0  0  0  0\\n   -4.9952   -3.3481    0.0000 H   0  0  0  0  0  0  0  0  0  0  0  0\\n   -2.1962   -1.5000    0.0000 H   0  0  0  0  0  0  0  0  0  0  0  0\\n   -4.2452   -2.0490    0.0000 H   0  0  0  0  0  0  0  0  0  0  0  0\\n   -1.4646   -3.0336    0.0000 H   0  0  0  0  0  0  0  0  0  0  0  0\\n   -5.3489   -6.5950    0.0000 H   0  0  0  0  0  0  0  0  0  0  0  0\\n   -5.7452   -4.6471    0.0000 H   0  0  0  0  0  0  0  0  0  0  0  0\\n   -3.6514   -6.6693    0.0000 H   0  0  0  0  0  0  0  0  0  0  0  0\\n  1  2  1  0\\n  2  3  1  0\\n  2  4  1  0\\n  4  5  1  0\\n  5  6  1  0\\n  6  7  1  0\\n  7  8  1  0\\n  8  9  2  0\\n  9 10  1  0\\n 10 11  2  0\\n 11 12  1  0\\n 12 13  2  0\\n  7 14  1  0\\n 14 15  2  0\\n 15 16  1  0\\n 16 17  1  0\\n 17 18  1  0\\n 16 19  2  0\\n 19 20  1  0\\n 20 21  2  0\\n 21 22  1  0\\n  4 23  1  0\\n 23 24  1  0\\n 23 25  1  0\\n 13  8  1  0\\n 21 14  1  0\\n  1 26  1  0\\n  1 27  1  0\\n  1 28  1  0\\n  2 29  1  0\\n  3 30  1  0\\n  3 31  1  0\\n  3 32  1  0\\n  5 33  1  0\\n  5 34  1  0\\n  6 35  1  0\\n  6 36  1  0\\n  7 37  1  0\\n  9 38  1  0\\n 10 39  1  0\\n 11 40  1  0\\n 12 41  1  0\\n 13 42  1  0\\n 15 43  1  0\\n 17 44  1  0\\n 17 45  1  0\\n 18 46  1  0\\n 19 47  1  0\\n 20 48  1  0\\n 22 49  1  0\\n 23 50  1  0\\n 24 51  1  0\\n 24 52  1  0\\n 24 53  1  0\\n 25 54  1  0\\n 25 55  1  0\\n 25 56  1  0\\nM  END\\n\",\"sdf\");\n\tviewer_17242465374554749.setStyle({\"stick\": {}});\n\tviewer_17242465374554749.setBackgroundColor(\"0xeeeeee\");\n\tviewer_17242465374554749.zoomTo();\nviewer_17242465374554749.render();\n});\n</script>",
      "text/html": [
       "<div id=\"3dmolviewer_17242465374554749\"  style=\"position: relative; width: 400px; height: 400px;\">\n",
       "        <p id=\"3dmolwarning_17242465374554749\" style=\"background-color:#ffcccc;color:black\">3Dmol.js failed to load for some reason.  Please check your browser console for error messages.<br></p>\n",
       "        </div>\n",
       "<script>\n",
       "\n",
       "var loadScriptAsync = function(uri){\n",
       "  return new Promise((resolve, reject) => {\n",
       "    //this is to ignore the existence of requirejs amd\n",
       "    var savedexports, savedmodule;\n",
       "    if (typeof exports !== 'undefined') savedexports = exports;\n",
       "    else exports = {}\n",
       "    if (typeof module !== 'undefined') savedmodule = module;\n",
       "    else module = {}\n",
       "\n",
       "    var tag = document.createElement('script');\n",
       "    tag.src = uri;\n",
       "    tag.async = true;\n",
       "    tag.onload = () => {\n",
       "        exports = savedexports;\n",
       "        module = savedmodule;\n",
       "        resolve();\n",
       "    };\n",
       "  var firstScriptTag = document.getElementsByTagName('script')[0];\n",
       "  firstScriptTag.parentNode.insertBefore(tag, firstScriptTag);\n",
       "});\n",
       "};\n",
       "\n",
       "if(typeof $3Dmolpromise === 'undefined') {\n",
       "$3Dmolpromise = null;\n",
       "  $3Dmolpromise = loadScriptAsync('https://cdnjs.cloudflare.com/ajax/libs/3Dmol/2.3.0/3Dmol-min.js');\n",
       "}\n",
       "\n",
       "var viewer_17242465374554749 = null;\n",
       "var warn = document.getElementById(\"3dmolwarning_17242465374554749\");\n",
       "if(warn) {\n",
       "    warn.parentNode.removeChild(warn);\n",
       "}\n",
       "$3Dmolpromise.then(function() {\n",
       "viewer_17242465374554749 = $3Dmol.createViewer(document.getElementById(\"3dmolviewer_17242465374554749\"),{backgroundColor:\"white\"});\n",
       "viewer_17242465374554749.zoomTo();\n",
       "\tviewer_17242465374554749.removeAllModels();\n",
       "\tviewer_17242465374554749.addModel(\"\\n     RDKit          2D\\n\\n 56 57  0  0  0  0  0  0  0  0999 V2000\\n   -3.8971   -6.3481    0.0000 C   0  0  0  0  0  0  0  0  0  0  0  0\\n   -2.3971   -6.3481    0.0000 C   0  0  0  0  0  0  0  0  0  0  0  0\\n   -0.8971   -6.3481    0.0000 C   0  0  0  0  0  0  0  0  0  0  0  0\\n   -2.3971   -4.8481    0.0000 N   0  0  0  0  0  0  0  0  0  0  0  0\\n   -1.0981   -4.0981    0.0000 C   0  0  0  0  0  0  0  0  0  0  0  0\\n    0.2010   -3.3481    0.0000 C   0  0  0  0  0  0  0  0  0  0  0  0\\n    1.5000   -2.5981    0.0000 C   0  0  0  0  0  0  0  0  0  0  0  0\\n    0.7500   -1.2990    0.0000 C   0  0  0  0  0  0  0  0  0  0  0  0\\n    1.5000    0.0000    0.0000 C   0  0  0  0  0  0  0  0  0  0  0  0\\n    0.7500    1.2990    0.0000 C   0  0  0  0  0  0  0  0  0  0  0  0\\n   -0.7500    1.2990    0.0000 C   0  0  0  0  0  0  0  0  0  0  0  0\\n   -1.5000    0.0000    0.0000 C   0  0  0  0  0  0  0  0  0  0  0  0\\n   -0.7500   -1.2990    0.0000 C   0  0  0  0  0  0  0  0  0  0  0  0\\n    2.2500   -3.8971    0.0000 C   0  0  0  0  0  0  0  0  0  0  0  0\\n    1.5000   -5.1962    0.0000 C   0  0  0  0  0  0  0  0  0  0  0  0\\n    2.2500   -6.4952    0.0000 C   0  0  0  0  0  0  0  0  0  0  0  0\\n    1.5000   -7.7942    0.0000 C   0  0  0  0  0  0  0  0  0  0  0  0\\n    0.7500   -9.0933    0.0000 O   0  0  0  0  0  0  0  0  0  0  0  0\\n    3.7500   -6.4952    0.0000 C   0  0  0  0  0  0  0  0  0  0  0  0\\n    4.5000   -5.1962    0.0000 C   0  0  0  0  0  0  0  0  0  0  0  0\\n    3.7500   -3.8971    0.0000 C   0  0  0  0  0  0  0  0  0  0  0  0\\n    4.5000   -2.5981    0.0000 O   0  0  0  0  0  0  0  0  0  0  0  0\\n   -3.6962   -4.0981    0.0000 C   0  0  0  0  0  0  0  0  0  0  0  0\\n   -2.9462   -2.7990    0.0000 C   0  0  0  0  0  0  0  0  0  0  0  0\\n   -4.4462   -5.3971    0.0000 C   0  0  0  0  0  0  0  0  0  0  0  0\\n   -5.3859   -6.5309    0.0000 H   0  0  0  0  0  0  0  0  0  0  0  0\\n   -3.8971   -7.8481    0.0000 H   0  0  0  0  0  0  0  0  0  0  0  0\\n   -4.2714   -5.6443    0.0000 H   0  0  0  0  0  0  0  0  0  0  0  0\\n   -2.3971   -7.8481    0.0000 H   0  0  0  0  0  0  0  0  0  0  0  0\\n    0.5917   -6.5309    0.0000 H   0  0  0  0  0  0  0  0  0  0  0  0\\n   -0.8971   -7.8481    0.0000 H   0  0  0  0  0  0  0  0  0  0  0  0\\n   -0.3594   -4.9477    0.0000 H   0  0  0  0  0  0  0  0  0  0  0  0\\n   -1.8481   -2.7990    0.0000 H   0  0  0  0  0  0  0  0  0  0  0  0\\n   -0.3481   -5.3971    0.0000 H   0  0  0  0  0  0  0  0  0  0  0  0\\n   -0.8411   -2.2691    0.0000 H   0  0  0  0  0  0  0  0  0  0  0  0\\n    0.6143   -4.7900    0.0000 H   0  0  0  0  0  0  0  0  0  0  0  0\\n    2.7990   -1.8481    0.0000 H   0  0  0  0  0  0  0  0  0  0  0  0\\n    3.0000    0.0000    0.0000 H   0  0  0  0  0  0  0  0  0  0  0  0\\n    1.5000    2.5981    0.0000 H   0  0  0  0  0  0  0  0  0  0  0  0\\n   -1.5000    2.5981    0.0000 H   0  0  0  0  0  0  0  0  0  0  0  0\\n   -3.0000    0.0000    0.0000 H   0  0  0  0  0  0  0  0  0  0  0  0\\n   -1.6528   -2.4970    0.0000 H   0  0  0  0  0  0  0  0  0  0  0  0\\n    0.0112   -5.3790    0.0000 H   0  0  0  0  0  0  0  0  0  0  0  0\\n    2.7990   -8.5442    0.0000 H   0  0  0  0  0  0  0  0  0  0  0  0\\n    0.1192   -7.2082    0.0000 H   0  0  0  0  0  0  0  0  0  0  0  0\\n   -0.7500   -9.0933    0.0000 H   0  0  0  0  0  0  0  0  0  0  0  0\\n    4.5000   -7.7942    0.0000 H   0  0  0  0  0  0  0  0  0  0  0  0\\n    6.0000   -5.1962    0.0000 H   0  0  0  0  0  0  0  0  0  0  0  0\\n    6.0000   -2.5981    0.0000 H   0  0  0  0  0  0  0  0  0  0  0  0\\n   -4.9952   -3.3481    0.0000 H   0  0  0  0  0  0  0  0  0  0  0  0\\n   -2.1962   -1.5000    0.0000 H   0  0  0  0  0  0  0  0  0  0  0  0\\n   -4.2452   -2.0490    0.0000 H   0  0  0  0  0  0  0  0  0  0  0  0\\n   -1.4646   -3.0336    0.0000 H   0  0  0  0  0  0  0  0  0  0  0  0\\n   -5.3489   -6.5950    0.0000 H   0  0  0  0  0  0  0  0  0  0  0  0\\n   -5.7452   -4.6471    0.0000 H   0  0  0  0  0  0  0  0  0  0  0  0\\n   -3.6514   -6.6693    0.0000 H   0  0  0  0  0  0  0  0  0  0  0  0\\n  1  2  1  0\\n  2  3  1  0\\n  2  4  1  0\\n  4  5  1  0\\n  5  6  1  0\\n  6  7  1  0\\n  7  8  1  0\\n  8  9  2  0\\n  9 10  1  0\\n 10 11  2  0\\n 11 12  1  0\\n 12 13  2  0\\n  7 14  1  0\\n 14 15  2  0\\n 15 16  1  0\\n 16 17  1  0\\n 17 18  1  0\\n 16 19  2  0\\n 19 20  1  0\\n 20 21  2  0\\n 21 22  1  0\\n  4 23  1  0\\n 23 24  1  0\\n 23 25  1  0\\n 13  8  1  0\\n 21 14  1  0\\n  1 26  1  0\\n  1 27  1  0\\n  1 28  1  0\\n  2 29  1  0\\n  3 30  1  0\\n  3 31  1  0\\n  3 32  1  0\\n  5 33  1  0\\n  5 34  1  0\\n  6 35  1  0\\n  6 36  1  0\\n  7 37  1  0\\n  9 38  1  0\\n 10 39  1  0\\n 11 40  1  0\\n 12 41  1  0\\n 13 42  1  0\\n 15 43  1  0\\n 17 44  1  0\\n 17 45  1  0\\n 18 46  1  0\\n 19 47  1  0\\n 20 48  1  0\\n 22 49  1  0\\n 23 50  1  0\\n 24 51  1  0\\n 24 52  1  0\\n 24 53  1  0\\n 25 54  1  0\\n 25 55  1  0\\n 25 56  1  0\\nM  END\\n\",\"sdf\");\n",
       "\tviewer_17242465374554749.setStyle({\"stick\": {}});\n",
       "\tviewer_17242465374554749.setBackgroundColor(\"0xeeeeee\");\n",
       "\tviewer_17242465374554749.zoomTo();\n",
       "viewer_17242465374554749.render();\n",
       "});\n",
       "</script>"
      ]
     },
     "metadata": {},
     "output_type": "display_data"
    }
   ],
   "source": [
    "IPythonConsole.drawMol3D(m_h)"
   ]
  },
  {
   "cell_type": "markdown",
   "metadata": {},
   "source": [
    "3D Structure Generation"
   ]
  },
  {
   "cell_type": "code",
   "execution_count": 7,
   "metadata": {},
   "outputs": [
    {
     "name": "stderr",
     "output_type": "stream",
     "text": [
      "[22:22:17] Molecule does not have explicit Hs. Consider calling AddHs()\n"
     ]
    },
    {
     "data": {
      "text/plain": [
       "0"
      ]
     },
     "execution_count": 7,
     "metadata": {},
     "output_type": "execute_result"
    }
   ],
   "source": [
    "AllChem.EmbedMolecule(m)\n",
    "AllChem.EmbedMolecule(m_h)\n",
    "# This function works in all mol element even the one that is not applied."
   ]
  },
  {
   "cell_type": "code",
   "execution_count": 8,
   "metadata": {},
   "outputs": [
    {
     "data": {
      "application/3dmoljs_load.v0": "<div id=\"3dmolviewer_17242465375109692\"  style=\"position: relative; width: 400px; height: 400px;\">\n        <p id=\"3dmolwarning_17242465375109692\" style=\"background-color:#ffcccc;color:black\">3Dmol.js failed to load for some reason.  Please check your browser console for error messages.<br></p>\n        </div>\n<script>\n\nvar loadScriptAsync = function(uri){\n  return new Promise((resolve, reject) => {\n    //this is to ignore the existence of requirejs amd\n    var savedexports, savedmodule;\n    if (typeof exports !== 'undefined') savedexports = exports;\n    else exports = {}\n    if (typeof module !== 'undefined') savedmodule = module;\n    else module = {}\n\n    var tag = document.createElement('script');\n    tag.src = uri;\n    tag.async = true;\n    tag.onload = () => {\n        exports = savedexports;\n        module = savedmodule;\n        resolve();\n    };\n  var firstScriptTag = document.getElementsByTagName('script')[0];\n  firstScriptTag.parentNode.insertBefore(tag, firstScriptTag);\n});\n};\n\nif(typeof $3Dmolpromise === 'undefined') {\n$3Dmolpromise = null;\n  $3Dmolpromise = loadScriptAsync('https://cdnjs.cloudflare.com/ajax/libs/3Dmol/2.3.0/3Dmol-min.js');\n}\n\nvar viewer_17242465375109692 = null;\nvar warn = document.getElementById(\"3dmolwarning_17242465375109692\");\nif(warn) {\n    warn.parentNode.removeChild(warn);\n}\n$3Dmolpromise.then(function() {\nviewer_17242465375109692 = $3Dmol.createViewer(document.getElementById(\"3dmolviewer_17242465375109692\"),{backgroundColor:\"white\"});\nviewer_17242465375109692.zoomTo();\n\tviewer_17242465375109692.removeAllModels();\n\tviewer_17242465375109692.addModel(\"\\n     RDKit          3D\\n\\n 25 26  0  0  0  0  0  0  0  0999 V2000\\n    2.7214    2.9140    0.3139 C   0  0  0  0  0  0  0  0  0  0  0  0\\n    3.1246    1.8592   -0.6286 C   0  0  0  0  0  0  0  0  0  0  0  0\\n    3.9865    2.2282   -1.7583 C   0  0  0  0  0  0  0  0  0  0  0  0\\n    3.0636    0.5309   -0.2232 N   0  0  0  0  0  0  0  0  0  0  0  0\\n    1.7809   -0.0107    0.1180 C   0  0  0  0  0  0  0  0  0  0  0  0\\n    0.9541   -0.0897   -1.1608 C   0  0  0  0  0  0  0  0  0  0  0  0\\n   -0.3625   -0.6396   -0.8441 C   0  0  0  0  0  0  0  0  0  0  0  0\\n   -0.4758   -1.9591   -0.2727 C   0  0  0  0  0  0  0  0  0  0  0  0\\n   -0.8926   -3.1080   -0.8754 C   0  0  0  0  0  0  0  0  0  0  0  0\\n   -0.9575   -4.3084   -0.2098 C   0  0  0  0  0  0  0  0  0  0  0  0\\n   -0.5926   -4.3708    1.1144 C   0  0  0  0  0  0  0  0  0  0  0  0\\n   -0.1631   -3.2369    1.7680 C   0  0  0  0  0  0  0  0  0  0  0  0\\n   -0.1106   -2.0636    1.0793 C   0  0  0  0  0  0  0  0  0  0  0  0\\n   -1.5039    0.2329   -0.7784 C   0  0  0  0  0  0  0  0  0  0  0  0\\n   -1.4929    1.2907    0.1264 C   0  0  0  0  0  0  0  0  0  0  0  0\\n   -2.5530    2.1621    0.2601 C   0  0  0  0  0  0  0  0  0  0  0  0\\n   -2.5204    3.2932    1.2492 C   0  0  0  0  0  0  0  0  0  0  0  0\\n   -3.7533    3.9663    1.1568 O   0  0  0  0  0  0  0  0  0  0  0  0\\n   -3.6495    1.9505   -0.5467 C   0  0  0  0  0  0  0  0  0  0  0  0\\n   -3.6795    0.8977   -1.4589 C   0  0  0  0  0  0  0  0  0  0  0  0\\n   -2.6165    0.0302   -1.5879 C   0  0  0  0  0  0  0  0  0  0  0  0\\n   -2.5661   -1.0306   -2.4621 O   0  0  0  0  0  0  0  0  0  0  0  0\\n    4.1362    0.0647    0.6361 C   0  0  0  0  0  0  0  0  0  0  0  0\\n    4.1364    0.8204    1.9400 C   0  0  0  0  0  0  0  0  0  0  0  0\\n    3.9859   -1.4235    0.8829 C   0  0  0  0  0  0  0  0  0  0  0  0\\n  1  2  1  0\\n  2  3  1  0\\n  2  4  1  0\\n  4  5  1  0\\n  5  6  1  0\\n  6  7  1  0\\n  7  8  1  0\\n  8  9  2  0\\n  9 10  1  0\\n 10 11  2  0\\n 11 12  1  0\\n 12 13  2  0\\n  7 14  1  0\\n 14 15  2  0\\n 15 16  1  0\\n 16 17  1  0\\n 17 18  1  0\\n 16 19  2  0\\n 19 20  1  0\\n 20 21  2  0\\n 21 22  1  0\\n  4 23  1  0\\n 23 24  1  0\\n 23 25  1  0\\n 13  8  1  0\\n 21 14  1  0\\nM  END\\n\",\"sdf\");\n\tviewer_17242465375109692.setStyle({\"stick\": {}});\n\tviewer_17242465375109692.setBackgroundColor(\"0xeeeeee\");\n\tviewer_17242465375109692.zoomTo();\nviewer_17242465375109692.render();\n});\n</script>",
      "text/html": [
       "<div id=\"3dmolviewer_17242465375109692\"  style=\"position: relative; width: 400px; height: 400px;\">\n",
       "        <p id=\"3dmolwarning_17242465375109692\" style=\"background-color:#ffcccc;color:black\">3Dmol.js failed to load for some reason.  Please check your browser console for error messages.<br></p>\n",
       "        </div>\n",
       "<script>\n",
       "\n",
       "var loadScriptAsync = function(uri){\n",
       "  return new Promise((resolve, reject) => {\n",
       "    //this is to ignore the existence of requirejs amd\n",
       "    var savedexports, savedmodule;\n",
       "    if (typeof exports !== 'undefined') savedexports = exports;\n",
       "    else exports = {}\n",
       "    if (typeof module !== 'undefined') savedmodule = module;\n",
       "    else module = {}\n",
       "\n",
       "    var tag = document.createElement('script');\n",
       "    tag.src = uri;\n",
       "    tag.async = true;\n",
       "    tag.onload = () => {\n",
       "        exports = savedexports;\n",
       "        module = savedmodule;\n",
       "        resolve();\n",
       "    };\n",
       "  var firstScriptTag = document.getElementsByTagName('script')[0];\n",
       "  firstScriptTag.parentNode.insertBefore(tag, firstScriptTag);\n",
       "});\n",
       "};\n",
       "\n",
       "if(typeof $3Dmolpromise === 'undefined') {\n",
       "$3Dmolpromise = null;\n",
       "  $3Dmolpromise = loadScriptAsync('https://cdnjs.cloudflare.com/ajax/libs/3Dmol/2.3.0/3Dmol-min.js');\n",
       "}\n",
       "\n",
       "var viewer_17242465375109692 = null;\n",
       "var warn = document.getElementById(\"3dmolwarning_17242465375109692\");\n",
       "if(warn) {\n",
       "    warn.parentNode.removeChild(warn);\n",
       "}\n",
       "$3Dmolpromise.then(function() {\n",
       "viewer_17242465375109692 = $3Dmol.createViewer(document.getElementById(\"3dmolviewer_17242465375109692\"),{backgroundColor:\"white\"});\n",
       "viewer_17242465375109692.zoomTo();\n",
       "\tviewer_17242465375109692.removeAllModels();\n",
       "\tviewer_17242465375109692.addModel(\"\\n     RDKit          3D\\n\\n 25 26  0  0  0  0  0  0  0  0999 V2000\\n    2.7214    2.9140    0.3139 C   0  0  0  0  0  0  0  0  0  0  0  0\\n    3.1246    1.8592   -0.6286 C   0  0  0  0  0  0  0  0  0  0  0  0\\n    3.9865    2.2282   -1.7583 C   0  0  0  0  0  0  0  0  0  0  0  0\\n    3.0636    0.5309   -0.2232 N   0  0  0  0  0  0  0  0  0  0  0  0\\n    1.7809   -0.0107    0.1180 C   0  0  0  0  0  0  0  0  0  0  0  0\\n    0.9541   -0.0897   -1.1608 C   0  0  0  0  0  0  0  0  0  0  0  0\\n   -0.3625   -0.6396   -0.8441 C   0  0  0  0  0  0  0  0  0  0  0  0\\n   -0.4758   -1.9591   -0.2727 C   0  0  0  0  0  0  0  0  0  0  0  0\\n   -0.8926   -3.1080   -0.8754 C   0  0  0  0  0  0  0  0  0  0  0  0\\n   -0.9575   -4.3084   -0.2098 C   0  0  0  0  0  0  0  0  0  0  0  0\\n   -0.5926   -4.3708    1.1144 C   0  0  0  0  0  0  0  0  0  0  0  0\\n   -0.1631   -3.2369    1.7680 C   0  0  0  0  0  0  0  0  0  0  0  0\\n   -0.1106   -2.0636    1.0793 C   0  0  0  0  0  0  0  0  0  0  0  0\\n   -1.5039    0.2329   -0.7784 C   0  0  0  0  0  0  0  0  0  0  0  0\\n   -1.4929    1.2907    0.1264 C   0  0  0  0  0  0  0  0  0  0  0  0\\n   -2.5530    2.1621    0.2601 C   0  0  0  0  0  0  0  0  0  0  0  0\\n   -2.5204    3.2932    1.2492 C   0  0  0  0  0  0  0  0  0  0  0  0\\n   -3.7533    3.9663    1.1568 O   0  0  0  0  0  0  0  0  0  0  0  0\\n   -3.6495    1.9505   -0.5467 C   0  0  0  0  0  0  0  0  0  0  0  0\\n   -3.6795    0.8977   -1.4589 C   0  0  0  0  0  0  0  0  0  0  0  0\\n   -2.6165    0.0302   -1.5879 C   0  0  0  0  0  0  0  0  0  0  0  0\\n   -2.5661   -1.0306   -2.4621 O   0  0  0  0  0  0  0  0  0  0  0  0\\n    4.1362    0.0647    0.6361 C   0  0  0  0  0  0  0  0  0  0  0  0\\n    4.1364    0.8204    1.9400 C   0  0  0  0  0  0  0  0  0  0  0  0\\n    3.9859   -1.4235    0.8829 C   0  0  0  0  0  0  0  0  0  0  0  0\\n  1  2  1  0\\n  2  3  1  0\\n  2  4  1  0\\n  4  5  1  0\\n  5  6  1  0\\n  6  7  1  0\\n  7  8  1  0\\n  8  9  2  0\\n  9 10  1  0\\n 10 11  2  0\\n 11 12  1  0\\n 12 13  2  0\\n  7 14  1  0\\n 14 15  2  0\\n 15 16  1  0\\n 16 17  1  0\\n 17 18  1  0\\n 16 19  2  0\\n 19 20  1  0\\n 20 21  2  0\\n 21 22  1  0\\n  4 23  1  0\\n 23 24  1  0\\n 23 25  1  0\\n 13  8  1  0\\n 21 14  1  0\\nM  END\\n\",\"sdf\");\n",
       "\tviewer_17242465375109692.setStyle({\"stick\": {}});\n",
       "\tviewer_17242465375109692.setBackgroundColor(\"0xeeeeee\");\n",
       "\tviewer_17242465375109692.zoomTo();\n",
       "viewer_17242465375109692.render();\n",
       "});\n",
       "</script>"
      ]
     },
     "metadata": {},
     "output_type": "display_data"
    }
   ],
   "source": [
    "# The 3D structure is generated!\n",
    "IPythonConsole.drawMol3D(m)"
   ]
  },
  {
   "cell_type": "code",
   "execution_count": 9,
   "metadata": {},
   "outputs": [
    {
     "data": {
      "application/3dmoljs_load.v0": "<div id=\"3dmolviewer_17242465375153852\"  style=\"position: relative; width: 400px; height: 400px;\">\n        <p id=\"3dmolwarning_17242465375153852\" style=\"background-color:#ffcccc;color:black\">3Dmol.js failed to load for some reason.  Please check your browser console for error messages.<br></p>\n        </div>\n<script>\n\nvar loadScriptAsync = function(uri){\n  return new Promise((resolve, reject) => {\n    //this is to ignore the existence of requirejs amd\n    var savedexports, savedmodule;\n    if (typeof exports !== 'undefined') savedexports = exports;\n    else exports = {}\n    if (typeof module !== 'undefined') savedmodule = module;\n    else module = {}\n\n    var tag = document.createElement('script');\n    tag.src = uri;\n    tag.async = true;\n    tag.onload = () => {\n        exports = savedexports;\n        module = savedmodule;\n        resolve();\n    };\n  var firstScriptTag = document.getElementsByTagName('script')[0];\n  firstScriptTag.parentNode.insertBefore(tag, firstScriptTag);\n});\n};\n\nif(typeof $3Dmolpromise === 'undefined') {\n$3Dmolpromise = null;\n  $3Dmolpromise = loadScriptAsync('https://cdnjs.cloudflare.com/ajax/libs/3Dmol/2.3.0/3Dmol-min.js');\n}\n\nvar viewer_17242465375153852 = null;\nvar warn = document.getElementById(\"3dmolwarning_17242465375153852\");\nif(warn) {\n    warn.parentNode.removeChild(warn);\n}\n$3Dmolpromise.then(function() {\nviewer_17242465375153852 = $3Dmol.createViewer(document.getElementById(\"3dmolviewer_17242465375153852\"),{backgroundColor:\"white\"});\nviewer_17242465375153852.zoomTo();\n\tviewer_17242465375153852.removeAllModels();\n\tviewer_17242465375153852.addModel(\"\\n     RDKit          3D\\n\\n 56 57  0  0  0  0  0  0  0  0999 V2000\\n   -3.1599   -2.2646    0.4869 C   0  0  0  0  0  0  0  0  0  0  0  0\\n   -2.9682   -0.9268    1.1656 C   0  0  0  0  0  0  0  0  0  0  0  0\\n   -4.1310   -0.6582    2.0750 C   0  0  0  0  0  0  0  0  0  0  0  0\\n   -2.6241    0.0517    0.2310 N   0  0  0  0  0  0  0  0  0  0  0  0\\n   -1.3878   -0.0264   -0.4353 C   0  0  0  0  0  0  0  0  0  0  0  0\\n   -0.2053    0.2567    0.5169 C   0  0  0  0  0  0  0  0  0  0  0  0\\n    1.0904    0.1684   -0.2696 C   0  0  0  0  0  0  0  0  0  0  0  0\\n    1.2765   -1.1845   -0.8567 C   0  0  0  0  0  0  0  0  0  0  0  0\\n    1.0773   -2.3598   -0.1698 C   0  0  0  0  0  0  0  0  0  0  0  0\\n    1.2577   -3.6182   -0.7281 C   0  0  0  0  0  0  0  0  0  0  0  0\\n    1.6523   -3.7388   -2.0222 C   0  0  0  0  0  0  0  0  0  0  0  0\\n    1.8635   -2.5685   -2.7490 C   0  0  0  0  0  0  0  0  0  0  0  0\\n    1.6833   -1.3359   -2.1907 C   0  0  0  0  0  0  0  0  0  0  0  0\\n    2.2531    0.7306    0.3955 C   0  0  0  0  0  0  0  0  0  0  0  0\\n    3.0569    1.6586   -0.2794 C   0  0  0  0  0  0  0  0  0  0  0  0\\n    4.1779    2.2304    0.2640 C   0  0  0  0  0  0  0  0  0  0  0  0\\n    4.9917    3.2132   -0.5275 C   0  0  0  0  0  0  0  0  0  0  0  0\\n    5.9762    3.7704    0.2520 O   0  0  0  0  0  0  0  0  0  0  0  0\\n    4.5625    1.8944    1.5451 C   0  0  0  0  0  0  0  0  0  0  0  0\\n    3.7797    0.9750    2.2355 C   0  0  0  0  0  0  0  0  0  0  0  0\\n    2.6575    0.4150    1.6648 C   0  0  0  0  0  0  0  0  0  0  0  0\\n    1.9399   -0.4776    2.4026 O   0  0  0  0  0  0  0  0  0  0  0  0\\n   -3.5492    1.0003   -0.2134 C   0  0  0  0  0  0  0  0  0  0  0  0\\n   -4.6911    0.3551   -0.9567 C   0  0  0  0  0  0  0  0  0  0  0  0\\n   -2.9773    2.0568   -1.1381 C   0  0  0  0  0  0  0  0  0  0  0  0\\n   -4.2580   -2.4283    0.2903 H   0  0  0  0  0  0  0  0  0  0  0  0\\n   -2.6301   -2.2782   -0.4729 H   0  0  0  0  0  0  0  0  0  0  0  0\\n   -2.7509   -3.0815    1.1169 H   0  0  0  0  0  0  0  0  0  0  0  0\\n   -2.1036   -1.1273    1.9024 H   0  0  0  0  0  0  0  0  0  0  0  0\\n   -3.9369   -1.0882    3.1161 H   0  0  0  0  0  0  0  0  0  0  0  0\\n   -5.0700   -1.2167    1.7776 H   0  0  0  0  0  0  0  0  0  0  0  0\\n   -4.3223    0.4123    2.2836 H   0  0  0  0  0  0  0  0  0  0  0  0\\n   -1.3420    0.7222   -1.2566 H   0  0  0  0  0  0  0  0  0  0  0  0\\n   -1.2412   -1.0086   -0.9156 H   0  0  0  0  0  0  0  0  0  0  0  0\\n   -0.1938   -0.5779    1.2319 H   0  0  0  0  0  0  0  0  0  0  0  0\\n   -0.3945    1.2445    0.9278 H   0  0  0  0  0  0  0  0  0  0  0  0\\n    0.8797    0.8305   -1.1769 H   0  0  0  0  0  0  0  0  0  0  0  0\\n    0.7612   -2.3575    0.8480 H   0  0  0  0  0  0  0  0  0  0  0  0\\n    1.0782   -4.5170   -0.1148 H   0  0  0  0  0  0  0  0  0  0  0  0\\n    1.7954   -4.7143   -2.4583 H   0  0  0  0  0  0  0  0  0  0  0  0\\n    2.1825   -2.6704   -3.7919 H   0  0  0  0  0  0  0  0  0  0  0  0\\n    1.8537   -0.4237   -2.7794 H   0  0  0  0  0  0  0  0  0  0  0  0\\n    2.8022    1.9637   -1.2959 H   0  0  0  0  0  0  0  0  0  0  0  0\\n    4.3393    3.9728   -0.9895 H   0  0  0  0  0  0  0  0  0  0  0  0\\n    5.4442    2.6522   -1.3964 H   0  0  0  0  0  0  0  0  0  0  0  0\\n    5.5001    4.3900    0.8869 H   0  0  0  0  0  0  0  0  0  0  0  0\\n    5.4434    2.3318    1.9977 H   0  0  0  0  0  0  0  0  0  0  0  0\\n    4.0615    0.6941    3.2494 H   0  0  0  0  0  0  0  0  0  0  0  0\\n    2.1518   -0.7745    3.3429 H   0  0  0  0  0  0  0  0  0  0  0  0\\n   -4.0104    1.5144    0.6714 H   0  0  0  0  0  0  0  0  0  0  0  0\\n   -4.2870   -0.0706   -1.8972 H   0  0  0  0  0  0  0  0  0  0  0  0\\n   -5.3129   -0.3181   -0.3804 H   0  0  0  0  0  0  0  0  0  0  0  0\\n   -5.3619    1.2092   -1.2689 H   0  0  0  0  0  0  0  0  0  0  0  0\\n   -2.0767    2.5214   -0.7362 H   0  0  0  0  0  0  0  0  0  0  0  0\\n   -2.8636    1.6846   -2.1730 H   0  0  0  0  0  0  0  0  0  0  0  0\\n   -3.7397    2.8919   -1.2371 H   0  0  0  0  0  0  0  0  0  0  0  0\\n  1  2  1  0\\n  2  3  1  0\\n  2  4  1  0\\n  4  5  1  0\\n  5  6  1  0\\n  6  7  1  0\\n  7  8  1  0\\n  8  9  2  0\\n  9 10  1  0\\n 10 11  2  0\\n 11 12  1  0\\n 12 13  2  0\\n  7 14  1  0\\n 14 15  2  0\\n 15 16  1  0\\n 16 17  1  0\\n 17 18  1  0\\n 16 19  2  0\\n 19 20  1  0\\n 20 21  2  0\\n 21 22  1  0\\n  4 23  1  0\\n 23 24  1  0\\n 23 25  1  0\\n 13  8  1  0\\n 21 14  1  0\\n  1 26  1  0\\n  1 27  1  0\\n  1 28  1  0\\n  2 29  1  0\\n  3 30  1  0\\n  3 31  1  0\\n  3 32  1  0\\n  5 33  1  0\\n  5 34  1  0\\n  6 35  1  0\\n  6 36  1  0\\n  7 37  1  0\\n  9 38  1  0\\n 10 39  1  0\\n 11 40  1  0\\n 12 41  1  0\\n 13 42  1  0\\n 15 43  1  0\\n 17 44  1  0\\n 17 45  1  0\\n 18 46  1  0\\n 19 47  1  0\\n 20 48  1  0\\n 22 49  1  0\\n 23 50  1  0\\n 24 51  1  0\\n 24 52  1  0\\n 24 53  1  0\\n 25 54  1  0\\n 25 55  1  0\\n 25 56  1  0\\nM  END\\n\",\"sdf\");\n\tviewer_17242465375153852.setStyle({\"stick\": {}});\n\tviewer_17242465375153852.setBackgroundColor(\"0xeeeeee\");\n\tviewer_17242465375153852.zoomTo();\nviewer_17242465375153852.render();\n});\n</script>",
      "text/html": [
       "<div id=\"3dmolviewer_17242465375153852\"  style=\"position: relative; width: 400px; height: 400px;\">\n",
       "        <p id=\"3dmolwarning_17242465375153852\" style=\"background-color:#ffcccc;color:black\">3Dmol.js failed to load for some reason.  Please check your browser console for error messages.<br></p>\n",
       "        </div>\n",
       "<script>\n",
       "\n",
       "var loadScriptAsync = function(uri){\n",
       "  return new Promise((resolve, reject) => {\n",
       "    //this is to ignore the existence of requirejs amd\n",
       "    var savedexports, savedmodule;\n",
       "    if (typeof exports !== 'undefined') savedexports = exports;\n",
       "    else exports = {}\n",
       "    if (typeof module !== 'undefined') savedmodule = module;\n",
       "    else module = {}\n",
       "\n",
       "    var tag = document.createElement('script');\n",
       "    tag.src = uri;\n",
       "    tag.async = true;\n",
       "    tag.onload = () => {\n",
       "        exports = savedexports;\n",
       "        module = savedmodule;\n",
       "        resolve();\n",
       "    };\n",
       "  var firstScriptTag = document.getElementsByTagName('script')[0];\n",
       "  firstScriptTag.parentNode.insertBefore(tag, firstScriptTag);\n",
       "});\n",
       "};\n",
       "\n",
       "if(typeof $3Dmolpromise === 'undefined') {\n",
       "$3Dmolpromise = null;\n",
       "  $3Dmolpromise = loadScriptAsync('https://cdnjs.cloudflare.com/ajax/libs/3Dmol/2.3.0/3Dmol-min.js');\n",
       "}\n",
       "\n",
       "var viewer_17242465375153852 = null;\n",
       "var warn = document.getElementById(\"3dmolwarning_17242465375153852\");\n",
       "if(warn) {\n",
       "    warn.parentNode.removeChild(warn);\n",
       "}\n",
       "$3Dmolpromise.then(function() {\n",
       "viewer_17242465375153852 = $3Dmol.createViewer(document.getElementById(\"3dmolviewer_17242465375153852\"),{backgroundColor:\"white\"});\n",
       "viewer_17242465375153852.zoomTo();\n",
       "\tviewer_17242465375153852.removeAllModels();\n",
       "\tviewer_17242465375153852.addModel(\"\\n     RDKit          3D\\n\\n 56 57  0  0  0  0  0  0  0  0999 V2000\\n   -3.1599   -2.2646    0.4869 C   0  0  0  0  0  0  0  0  0  0  0  0\\n   -2.9682   -0.9268    1.1656 C   0  0  0  0  0  0  0  0  0  0  0  0\\n   -4.1310   -0.6582    2.0750 C   0  0  0  0  0  0  0  0  0  0  0  0\\n   -2.6241    0.0517    0.2310 N   0  0  0  0  0  0  0  0  0  0  0  0\\n   -1.3878   -0.0264   -0.4353 C   0  0  0  0  0  0  0  0  0  0  0  0\\n   -0.2053    0.2567    0.5169 C   0  0  0  0  0  0  0  0  0  0  0  0\\n    1.0904    0.1684   -0.2696 C   0  0  0  0  0  0  0  0  0  0  0  0\\n    1.2765   -1.1845   -0.8567 C   0  0  0  0  0  0  0  0  0  0  0  0\\n    1.0773   -2.3598   -0.1698 C   0  0  0  0  0  0  0  0  0  0  0  0\\n    1.2577   -3.6182   -0.7281 C   0  0  0  0  0  0  0  0  0  0  0  0\\n    1.6523   -3.7388   -2.0222 C   0  0  0  0  0  0  0  0  0  0  0  0\\n    1.8635   -2.5685   -2.7490 C   0  0  0  0  0  0  0  0  0  0  0  0\\n    1.6833   -1.3359   -2.1907 C   0  0  0  0  0  0  0  0  0  0  0  0\\n    2.2531    0.7306    0.3955 C   0  0  0  0  0  0  0  0  0  0  0  0\\n    3.0569    1.6586   -0.2794 C   0  0  0  0  0  0  0  0  0  0  0  0\\n    4.1779    2.2304    0.2640 C   0  0  0  0  0  0  0  0  0  0  0  0\\n    4.9917    3.2132   -0.5275 C   0  0  0  0  0  0  0  0  0  0  0  0\\n    5.9762    3.7704    0.2520 O   0  0  0  0  0  0  0  0  0  0  0  0\\n    4.5625    1.8944    1.5451 C   0  0  0  0  0  0  0  0  0  0  0  0\\n    3.7797    0.9750    2.2355 C   0  0  0  0  0  0  0  0  0  0  0  0\\n    2.6575    0.4150    1.6648 C   0  0  0  0  0  0  0  0  0  0  0  0\\n    1.9399   -0.4776    2.4026 O   0  0  0  0  0  0  0  0  0  0  0  0\\n   -3.5492    1.0003   -0.2134 C   0  0  0  0  0  0  0  0  0  0  0  0\\n   -4.6911    0.3551   -0.9567 C   0  0  0  0  0  0  0  0  0  0  0  0\\n   -2.9773    2.0568   -1.1381 C   0  0  0  0  0  0  0  0  0  0  0  0\\n   -4.2580   -2.4283    0.2903 H   0  0  0  0  0  0  0  0  0  0  0  0\\n   -2.6301   -2.2782   -0.4729 H   0  0  0  0  0  0  0  0  0  0  0  0\\n   -2.7509   -3.0815    1.1169 H   0  0  0  0  0  0  0  0  0  0  0  0\\n   -2.1036   -1.1273    1.9024 H   0  0  0  0  0  0  0  0  0  0  0  0\\n   -3.9369   -1.0882    3.1161 H   0  0  0  0  0  0  0  0  0  0  0  0\\n   -5.0700   -1.2167    1.7776 H   0  0  0  0  0  0  0  0  0  0  0  0\\n   -4.3223    0.4123    2.2836 H   0  0  0  0  0  0  0  0  0  0  0  0\\n   -1.3420    0.7222   -1.2566 H   0  0  0  0  0  0  0  0  0  0  0  0\\n   -1.2412   -1.0086   -0.9156 H   0  0  0  0  0  0  0  0  0  0  0  0\\n   -0.1938   -0.5779    1.2319 H   0  0  0  0  0  0  0  0  0  0  0  0\\n   -0.3945    1.2445    0.9278 H   0  0  0  0  0  0  0  0  0  0  0  0\\n    0.8797    0.8305   -1.1769 H   0  0  0  0  0  0  0  0  0  0  0  0\\n    0.7612   -2.3575    0.8480 H   0  0  0  0  0  0  0  0  0  0  0  0\\n    1.0782   -4.5170   -0.1148 H   0  0  0  0  0  0  0  0  0  0  0  0\\n    1.7954   -4.7143   -2.4583 H   0  0  0  0  0  0  0  0  0  0  0  0\\n    2.1825   -2.6704   -3.7919 H   0  0  0  0  0  0  0  0  0  0  0  0\\n    1.8537   -0.4237   -2.7794 H   0  0  0  0  0  0  0  0  0  0  0  0\\n    2.8022    1.9637   -1.2959 H   0  0  0  0  0  0  0  0  0  0  0  0\\n    4.3393    3.9728   -0.9895 H   0  0  0  0  0  0  0  0  0  0  0  0\\n    5.4442    2.6522   -1.3964 H   0  0  0  0  0  0  0  0  0  0  0  0\\n    5.5001    4.3900    0.8869 H   0  0  0  0  0  0  0  0  0  0  0  0\\n    5.4434    2.3318    1.9977 H   0  0  0  0  0  0  0  0  0  0  0  0\\n    4.0615    0.6941    3.2494 H   0  0  0  0  0  0  0  0  0  0  0  0\\n    2.1518   -0.7745    3.3429 H   0  0  0  0  0  0  0  0  0  0  0  0\\n   -4.0104    1.5144    0.6714 H   0  0  0  0  0  0  0  0  0  0  0  0\\n   -4.2870   -0.0706   -1.8972 H   0  0  0  0  0  0  0  0  0  0  0  0\\n   -5.3129   -0.3181   -0.3804 H   0  0  0  0  0  0  0  0  0  0  0  0\\n   -5.3619    1.2092   -1.2689 H   0  0  0  0  0  0  0  0  0  0  0  0\\n   -2.0767    2.5214   -0.7362 H   0  0  0  0  0  0  0  0  0  0  0  0\\n   -2.8636    1.6846   -2.1730 H   0  0  0  0  0  0  0  0  0  0  0  0\\n   -3.7397    2.8919   -1.2371 H   0  0  0  0  0  0  0  0  0  0  0  0\\n  1  2  1  0\\n  2  3  1  0\\n  2  4  1  0\\n  4  5  1  0\\n  5  6  1  0\\n  6  7  1  0\\n  7  8  1  0\\n  8  9  2  0\\n  9 10  1  0\\n 10 11  2  0\\n 11 12  1  0\\n 12 13  2  0\\n  7 14  1  0\\n 14 15  2  0\\n 15 16  1  0\\n 16 17  1  0\\n 17 18  1  0\\n 16 19  2  0\\n 19 20  1  0\\n 20 21  2  0\\n 21 22  1  0\\n  4 23  1  0\\n 23 24  1  0\\n 23 25  1  0\\n 13  8  1  0\\n 21 14  1  0\\n  1 26  1  0\\n  1 27  1  0\\n  1 28  1  0\\n  2 29  1  0\\n  3 30  1  0\\n  3 31  1  0\\n  3 32  1  0\\n  5 33  1  0\\n  5 34  1  0\\n  6 35  1  0\\n  6 36  1  0\\n  7 37  1  0\\n  9 38  1  0\\n 10 39  1  0\\n 11 40  1  0\\n 12 41  1  0\\n 13 42  1  0\\n 15 43  1  0\\n 17 44  1  0\\n 17 45  1  0\\n 18 46  1  0\\n 19 47  1  0\\n 20 48  1  0\\n 22 49  1  0\\n 23 50  1  0\\n 24 51  1  0\\n 24 52  1  0\\n 24 53  1  0\\n 25 54  1  0\\n 25 55  1  0\\n 25 56  1  0\\nM  END\\n\",\"sdf\");\n",
       "\tviewer_17242465375153852.setStyle({\"stick\": {}});\n",
       "\tviewer_17242465375153852.setBackgroundColor(\"0xeeeeee\");\n",
       "\tviewer_17242465375153852.zoomTo();\n",
       "viewer_17242465375153852.render();\n",
       "});\n",
       "</script>"
      ]
     },
     "metadata": {},
     "output_type": "display_data"
    }
   ],
   "source": [
    "IPythonConsole.drawMol3D(m_h)"
   ]
  }
 ],
 "metadata": {
  "kernelspec": {
   "display_name": "base",
   "language": "python",
   "name": "python3"
  },
  "language_info": {
   "codemirror_mode": {
    "name": "ipython",
    "version": 3
   },
   "file_extension": ".py",
   "mimetype": "text/x-python",
   "name": "python",
   "nbconvert_exporter": "python",
   "pygments_lexer": "ipython3",
   "version": "3.11.5"
  }
 },
 "nbformat": 4,
 "nbformat_minor": 2
}
